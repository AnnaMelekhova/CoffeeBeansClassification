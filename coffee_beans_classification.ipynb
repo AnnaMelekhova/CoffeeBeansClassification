{
 "cells": [
  {
   "cell_type": "code",
   "execution_count": 1,
   "id": "1d2b2c92",
   "metadata": {},
   "outputs": [
    {
     "data": {
      "text/plain": [
       "'2.10.0'"
      ]
     },
     "execution_count": 1,
     "metadata": {},
     "output_type": "execute_result"
    }
   ],
   "source": [
    "import os\n",
    "os.environ['KMP_DUPLICATE_LIB_OK']='True'\n",
    "import tensorflow as tf\n",
    "import numpy as np\n",
    "import matplotlib.pyplot as plt\n",
    "from keras.preprocessing.image import ImageDataGenerator\n",
    "tf.__version__"
   ]
  },
  {
   "cell_type": "markdown",
   "id": "2b389e60",
   "metadata": {},
   "source": [
    "# Traning and testing sets preparation"
   ]
  },
  {
   "cell_type": "code",
   "execution_count": 2,
   "id": "be0e3839",
   "metadata": {},
   "outputs": [],
   "source": [
    "train_datagen = ImageDataGenerator(rescale = 1./255,\n",
    "                                   shear_range = 0.2,\n",
    "                                   zoom_range = 0.2,\n",
    "                                   horizontal_flip = True)"
   ]
  },
  {
   "cell_type": "code",
   "execution_count": 3,
   "id": "12adbf4c",
   "metadata": {},
   "outputs": [
    {
     "name": "stdout",
     "output_type": "stream",
     "text": [
      "Found 1200 images belonging to 4 classes.\n"
     ]
    }
   ],
   "source": [
    "training_set = train_datagen.flow_from_directory('data/train',\n",
    "                                                 target_size = (64, 64),\n",
    "                                                 batch_size = 32,\n",
    "                                                 shuffle=False,\n",
    "                                                 class_mode = 'categorical')"
   ]
  },
  {
   "cell_type": "code",
   "execution_count": 4,
   "id": "edf93aff",
   "metadata": {},
   "outputs": [
    {
     "name": "stdout",
     "output_type": "stream",
     "text": [
      "Found 396 images belonging to 4 classes.\n"
     ]
    }
   ],
   "source": [
    "test_datagen = ImageDataGenerator(rescale = 1./255)\n",
    "test_set = test_datagen.flow_from_directory('data/test', \n",
    "                                            target_size = (64, 64),\n",
    "                                            batch_size = 32,\n",
    "                                            shuffle=False,\n",
    "                                            class_mode = 'categorical')"
   ]
  },
  {
   "cell_type": "markdown",
   "id": "c6c42eed",
   "metadata": {},
   "source": [
    "# Model creation"
   ]
  },
  {
   "cell_type": "markdown",
   "id": "7c2be5d3",
   "metadata": {},
   "source": [
    "### First model:"
   ]
  },
  {
   "cell_type": "code",
   "execution_count": null,
   "id": "5f365d50",
   "metadata": {},
   "outputs": [],
   "source": [
    "#cnn = tf.keras.models.Sequential()\n",
    "#cnn.add(tf.keras.layers.Conv2D(64, (3, 3), activation='relu', kernel_initializer='he_uniform', padding='same', input_shape=(64, 64, 3)))\n",
    "#cnn.add(tf.keras.layers.Conv2D(64, (3, 3), activation='relu', kernel_initializer='he_uniform', padding='same'))\n",
    "#cnn.add(tf.keras.layers.MaxPooling2D((2, 2)))\n",
    "#cnn.add(tf.keras.layers.Conv2D(32, (3, 3), activation='relu', kernel_initializer='he_uniform', padding='same'))\n",
    "#cnn.add(tf.keras.layers.Conv2D(32, (3, 3), activation='relu', kernel_initializer='he_uniform', padding='same'))\n",
    "#cnn.add(tf.keras.layers.MaxPooling2D((2, 2)))\n",
    "#cnn.add(tf.keras.layers.Conv2D(128, (3, 3), activation='relu', kernel_initializer='he_uniform', padding='same'))\n",
    "#cnn.add(tf.keras.layers.Conv2D(128, (3, 3), activation='relu', kernel_initializer='he_uniform', padding='same'))\n",
    "#cnn.add(tf.keras.layers.MaxPooling2D((2, 2)))\n",
    "#cnn.add(tf.keras.layers.Flatten())\n",
    "#cnn.add(tf.keras.layers.Dense(128, activation='relu', kernel_initializer='he_uniform'))\n",
    "#cnn.add(tf.keras.layers.Dense(4, activation='softmax'))"
   ]
  },
  {
   "cell_type": "markdown",
   "id": "ca5eafb5",
   "metadata": {},
   "source": [
    "### Second model:"
   ]
  },
  {
   "cell_type": "code",
   "execution_count": null,
   "id": "59d6daf8",
   "metadata": {},
   "outputs": [],
   "source": [
    "#cnn = tf.keras.models.Sequential()\n",
    "#cnn.add(tf.keras.layers.Conv2D(64, (3, 3), activation='relu', padding='same', input_shape=(64, 64, 3)))\n",
    "#cnn.add(tf.keras.layers.AveragePooling2D(pool_size=2, strides=2))\n",
    "#cnn.add(tf.keras.layers.Conv2D(32, (3, 3), activation='relu', padding='same'))\n",
    "#cnn.add(tf.keras.layers.AveragePooling2D(pool_size=2, strides=2))\n",
    "#cnn.add(tf.keras.layers.Conv2D(64, (3, 3), activation='relu', padding='same'))\n",
    "#cnn.add(tf.keras.layers.Flatten())\n",
    "#cnn.add(tf.keras.layers.Dense(128, activation='relu'))\n",
    "#cnn.add(tf.keras.layers.Dense(4, activation='softmax'))"
   ]
  },
  {
   "cell_type": "markdown",
   "id": "eac91e53",
   "metadata": {},
   "source": [
    "### Third model:"
   ]
  },
  {
   "cell_type": "code",
   "execution_count": 5,
   "id": "7a692a38",
   "metadata": {},
   "outputs": [],
   "source": [
    "cnn = tf.keras.models.Sequential()\n",
    "cnn.add(tf.keras.layers.MaxPool2D(pool_size=2, strides=2, input_shape=(64,64,3)))\n",
    "cnn.add(tf.keras.layers.Conv2D(filters=32, kernel_size=3, activation='relu'))\n",
    "cnn.add(tf.keras.layers.MaxPool2D(pool_size=2, strides=2))\n",
    "cnn.add(tf.keras.layers.Flatten())\n",
    "cnn.add(tf.keras.layers.Dense(units=128, activation='relu'))\n",
    "cnn.add(tf.keras.layers.Dense(units=4, activation='softmax'))"
   ]
  },
  {
   "cell_type": "code",
   "execution_count": 6,
   "id": "93088cb3",
   "metadata": {},
   "outputs": [],
   "source": [
    "cnn.compile(optimizer = 'adam', loss = 'categorical_crossentropy', metrics = ['accuracy'])"
   ]
  },
  {
   "cell_type": "code",
   "execution_count": 7,
   "id": "492b34c4",
   "metadata": {},
   "outputs": [
    {
     "name": "stdout",
     "output_type": "stream",
     "text": [
      "Model: \"sequential\"\n",
      "_________________________________________________________________\n",
      " Layer (type)                Output Shape              Param #   \n",
      "=================================================================\n",
      " max_pooling2d (MaxPooling2D  (None, 32, 32, 3)        0         \n",
      " )                                                               \n",
      "                                                                 \n",
      " conv2d (Conv2D)             (None, 30, 30, 32)        896       \n",
      "                                                                 \n",
      " max_pooling2d_1 (MaxPooling  (None, 15, 15, 32)       0         \n",
      " 2D)                                                             \n",
      "                                                                 \n",
      " flatten (Flatten)           (None, 7200)              0         \n",
      "                                                                 \n",
      " dense (Dense)               (None, 128)               921728    \n",
      "                                                                 \n",
      " dense_1 (Dense)             (None, 4)                 516       \n",
      "                                                                 \n",
      "=================================================================\n",
      "Total params: 923,140\n",
      "Trainable params: 923,140\n",
      "Non-trainable params: 0\n",
      "_________________________________________________________________\n"
     ]
    }
   ],
   "source": [
    "cnn.summary()"
   ]
  },
  {
   "cell_type": "code",
   "execution_count": 8,
   "id": "7e9d7371",
   "metadata": {},
   "outputs": [
    {
     "data": {
      "image/png": "[encoded data removed]",
      "text/plain": [
       "<PIL.Image.Image image mode=RGBA size=595x210 at 0x26142628250>"
      ]
     },
     "execution_count": 8,
     "metadata": {},
     "output_type": "execute_result"
    }
   ],
   "source": [
    "import visualkeras\n",
    "visualkeras.layered_view(cnn, legend=True) \n",
    "\n",
    "from PIL import ImageFont\n",
    "font = ImageFont.truetype(\"arial.ttf\", 12)\n",
    "visualkeras.layered_view(cnn, legend=True, font=font, to_file='model_layered3.png')"
   ]
  },
  {
   "cell_type": "markdown",
   "id": "ab89e659",
   "metadata": {},
   "source": [
    "# The training process"
   ]
  },
  {
   "cell_type": "code",
   "execution_count": 9,
   "id": "6d10e6be",
   "metadata": {},
   "outputs": [
    {
     "name": "stdout",
     "output_type": "stream",
     "text": [
      "Epoch 1/50\n",
      "38/38 [==============================] - 7s 173ms/step - loss: 1.9589 - accuracy: 0.2133 - val_loss: 1.3851 - val_accuracy: 0.2500\n",
      "Epoch 2/50\n",
      "38/38 [==============================] - 5s 144ms/step - loss: 1.4028 - accuracy: 0.2258 - val_loss: 1.3841 - val_accuracy: 0.2500\n",
      "Epoch 3/50\n",
      "38/38 [==============================] - 5s 144ms/step - loss: 1.3813 - accuracy: 0.2800 - val_loss: 1.3719 - val_accuracy: 0.3636\n",
      "Epoch 4/50\n",
      "38/38 [==============================] - 6s 145ms/step - loss: 1.3641 - accuracy: 0.3433 - val_loss: 1.3412 - val_accuracy: 0.4848\n",
      "Epoch 5/50\n",
      "38/38 [==============================] - 5s 143ms/step - loss: 1.3587 - accuracy: 0.3617 - val_loss: 1.2957 - val_accuracy: 0.4773\n",
      "Epoch 6/50\n",
      "38/38 [==============================] - 5s 144ms/step - loss: 1.4003 - accuracy: 0.4817 - val_loss: 1.3267 - val_accuracy: 0.6162\n",
      "Epoch 7/50\n",
      "38/38 [==============================] - 5s 143ms/step - loss: 1.2690 - accuracy: 0.4475 - val_loss: 1.1386 - val_accuracy: 0.4773\n",
      "Epoch 8/50\n",
      "38/38 [==============================] - 5s 142ms/step - loss: 1.3104 - accuracy: 0.4233 - val_loss: 1.1662 - val_accuracy: 0.3056\n",
      "Epoch 9/50\n",
      "38/38 [==============================] - 5s 142ms/step - loss: 1.0460 - accuracy: 0.5400 - val_loss: 1.0135 - val_accuracy: 0.6540\n",
      "Epoch 10/50\n",
      "38/38 [==============================] - 5s 142ms/step - loss: 1.1452 - accuracy: 0.5992 - val_loss: 0.8956 - val_accuracy: 0.8359\n",
      "Epoch 11/50\n",
      "38/38 [==============================] - 5s 142ms/step - loss: 0.8903 - accuracy: 0.7067 - val_loss: 0.7264 - val_accuracy: 0.8207\n",
      "Epoch 12/50\n",
      "38/38 [==============================] - 5s 143ms/step - loss: 0.7618 - accuracy: 0.7333 - val_loss: 0.6057 - val_accuracy: 0.9242\n",
      "Epoch 13/50\n",
      "38/38 [==============================] - 5s 142ms/step - loss: 0.6387 - accuracy: 0.7858 - val_loss: 0.6408 - val_accuracy: 0.6641\n",
      "Epoch 14/50\n",
      "38/38 [==============================] - 6s 154ms/step - loss: 0.6791 - accuracy: 0.6867 - val_loss: 0.6815 - val_accuracy: 0.6944\n",
      "Epoch 15/50\n",
      "38/38 [==============================] - 6s 151ms/step - loss: 0.5721 - accuracy: 0.8200 - val_loss: 0.4587 - val_accuracy: 0.9141\n",
      "Epoch 16/50\n",
      "38/38 [==============================] - 5s 143ms/step - loss: 0.5465 - accuracy: 0.7850 - val_loss: 0.5186 - val_accuracy: 0.8081\n",
      "Epoch 17/50\n",
      "38/38 [==============================] - 6s 145ms/step - loss: 0.4631 - accuracy: 0.8742 - val_loss: 0.3480 - val_accuracy: 0.9444\n",
      "Epoch 18/50\n",
      "38/38 [==============================] - 5s 143ms/step - loss: 0.3661 - accuracy: 0.9217 - val_loss: 0.5878 - val_accuracy: 0.7298\n",
      "Epoch 19/50\n",
      "38/38 [==============================] - 5s 143ms/step - loss: 0.3662 - accuracy: 0.8900 - val_loss: 0.2747 - val_accuracy: 0.9268\n",
      "Epoch 20/50\n",
      "38/38 [==============================] - 5s 142ms/step - loss: 0.3595 - accuracy: 0.8808 - val_loss: 0.2731 - val_accuracy: 0.9343\n",
      "Epoch 21/50\n",
      "38/38 [==============================] - 5s 142ms/step - loss: 0.3665 - accuracy: 0.8792 - val_loss: 0.2192 - val_accuracy: 0.9596\n",
      "Epoch 22/50\n",
      "38/38 [==============================] - 5s 142ms/step - loss: 0.2964 - accuracy: 0.9075 - val_loss: 0.2356 - val_accuracy: 0.9293\n",
      "Epoch 23/50\n",
      "38/38 [==============================] - 5s 142ms/step - loss: 0.2728 - accuracy: 0.9117 - val_loss: 0.2825 - val_accuracy: 0.8838\n",
      "Epoch 24/50\n",
      "38/38 [==============================] - 5s 143ms/step - loss: 0.2752 - accuracy: 0.9150 - val_loss: 0.1886 - val_accuracy: 0.9596\n",
      "Epoch 25/50\n",
      "38/38 [==============================] - 5s 142ms/step - loss: 0.2332 - accuracy: 0.9342 - val_loss: 0.3386 - val_accuracy: 0.8535\n",
      "Epoch 26/50\n",
      "38/38 [==============================] - 5s 142ms/step - loss: 0.2852 - accuracy: 0.9083 - val_loss: 0.1751 - val_accuracy: 0.9596\n",
      "Epoch 27/50\n",
      "38/38 [==============================] - 6s 151ms/step - loss: 0.2241 - accuracy: 0.9350 - val_loss: 0.1579 - val_accuracy: 0.9672\n",
      "Epoch 28/50\n",
      "38/38 [==============================] - 6s 145ms/step - loss: 0.2032 - accuracy: 0.9400 - val_loss: 0.1363 - val_accuracy: 0.9697\n",
      "Epoch 29/50\n",
      "38/38 [==============================] - 6s 150ms/step - loss: 0.1900 - accuracy: 0.9383 - val_loss: 0.1690 - val_accuracy: 0.9520\n",
      "Epoch 30/50\n",
      "38/38 [==============================] - 5s 144ms/step - loss: 0.1780 - accuracy: 0.9433 - val_loss: 0.1407 - val_accuracy: 0.9672\n",
      "Epoch 31/50\n",
      "38/38 [==============================] - 5s 144ms/step - loss: 0.1759 - accuracy: 0.9367 - val_loss: 0.1201 - val_accuracy: 0.9747\n",
      "Epoch 32/50\n",
      "38/38 [==============================] - 5s 144ms/step - loss: 0.1427 - accuracy: 0.9708 - val_loss: 0.1732 - val_accuracy: 0.9520\n",
      "Epoch 33/50\n",
      "38/38 [==============================] - 6s 145ms/step - loss: 0.1735 - accuracy: 0.9400 - val_loss: 0.1066 - val_accuracy: 0.9747\n",
      "Epoch 34/50\n",
      "38/38 [==============================] - 6s 145ms/step - loss: 0.1451 - accuracy: 0.9575 - val_loss: 0.1173 - val_accuracy: 0.9722\n",
      "Epoch 35/50\n",
      "38/38 [==============================] - 5s 144ms/step - loss: 0.1231 - accuracy: 0.9642 - val_loss: 0.1038 - val_accuracy: 0.9697\n",
      "Epoch 36/50\n",
      "38/38 [==============================] - 5s 143ms/step - loss: 0.1220 - accuracy: 0.9658 - val_loss: 0.1003 - val_accuracy: 0.9747\n",
      "Epoch 37/50\n",
      "38/38 [==============================] - 6s 150ms/step - loss: 0.1292 - accuracy: 0.9675 - val_loss: 0.1161 - val_accuracy: 0.9646\n",
      "Epoch 38/50\n",
      "38/38 [==============================] - 5s 142ms/step - loss: 0.1400 - accuracy: 0.9525 - val_loss: 0.0996 - val_accuracy: 0.9747\n",
      "Epoch 39/50\n",
      "38/38 [==============================] - 6s 147ms/step - loss: 0.1157 - accuracy: 0.9650 - val_loss: 0.0991 - val_accuracy: 0.9722\n",
      "Epoch 40/50\n",
      "38/38 [==============================] - 6s 146ms/step - loss: 0.1131 - accuracy: 0.9625 - val_loss: 0.0833 - val_accuracy: 0.9773\n",
      "Epoch 41/50\n",
      "38/38 [==============================] - 6s 149ms/step - loss: 0.1064 - accuracy: 0.9717 - val_loss: 0.0828 - val_accuracy: 0.9773\n",
      "Epoch 42/50\n",
      "38/38 [==============================] - 5s 144ms/step - loss: 0.1099 - accuracy: 0.9625 - val_loss: 0.0839 - val_accuracy: 0.9773\n",
      "Epoch 43/50\n",
      "38/38 [==============================] - 5s 143ms/step - loss: 0.1121 - accuracy: 0.9608 - val_loss: 0.0900 - val_accuracy: 0.9773\n",
      "Epoch 44/50\n",
      "38/38 [==============================] - 6s 145ms/step - loss: 0.1203 - accuracy: 0.9617 - val_loss: 0.0782 - val_accuracy: 0.9747\n",
      "Epoch 45/50\n",
      "38/38 [==============================] - 6s 165ms/step - loss: 0.0958 - accuracy: 0.9767 - val_loss: 0.0919 - val_accuracy: 0.9672\n",
      "Epoch 46/50\n",
      "38/38 [==============================] - 6s 153ms/step - loss: 0.1224 - accuracy: 0.9558 - val_loss: 0.1175 - val_accuracy: 0.9646\n",
      "Epoch 47/50\n",
      "38/38 [==============================] - 5s 143ms/step - loss: 0.1405 - accuracy: 0.9442 - val_loss: 0.0947 - val_accuracy: 0.9747\n",
      "Epoch 48/50\n",
      "38/38 [==============================] - 5s 142ms/step - loss: 0.1097 - accuracy: 0.9658 - val_loss: 0.1030 - val_accuracy: 0.9697\n",
      "Epoch 49/50\n",
      "38/38 [==============================] - 6s 153ms/step - loss: 0.1184 - accuracy: 0.9633 - val_loss: 0.0800 - val_accuracy: 0.9747\n",
      "Epoch 50/50\n",
      "38/38 [==============================] - 6s 158ms/step - loss: 0.1060 - accuracy: 0.9683 - val_loss: 0.0748 - val_accuracy: 0.9747\n"
     ]
    }
   ],
   "source": [
    "hist=cnn.fit(x = training_set, validation_data = test_set, epochs = 50)"
   ]
  },
  {
   "cell_type": "code",
   "execution_count": 10,
   "id": "25ad469c",
   "metadata": {},
   "outputs": [
    {
     "data": {
      "image/png": "[encoded data removed]",
      "text/plain": [
       "<Figure size 432x288 with 1 Axes>"
      ]
     },
     "metadata": {
      "needs_background": "light"
     },
     "output_type": "display_data"
    }
   ],
   "source": [
    "plt.plot(hist.history['accuracy'],color='red')\n",
    "plt.plot(hist.history['val_accuracy'], color='teal')\n",
    "plt.title('model accuracy')\n",
    "plt.ylabel('accuracy')\n",
    "plt.xlabel('epoch')\n",
    "plt.legend(['train', 'test'], loc='upper left')\n",
    "plt.savefig('Model_accuracy3.jpg',dpi=500)\n",
    "plt.show()"
   ]
  },
  {
   "cell_type": "code",
   "execution_count": 11,
   "id": "c949d423",
   "metadata": {},
   "outputs": [
    {
     "data": {
      "image/png": "[encoded data removed]",
      "text/plain": [
       "<Figure size 432x288 with 1 Axes>"
      ]
     },
     "metadata": {
      "needs_background": "light"
     },
     "output_type": "display_data"
    }
   ],
   "source": [
    "plt.plot(hist.history['loss'], color='red')\n",
    "plt.plot(hist.history['val_loss'], color='teal')\n",
    "plt.title('model loss')\n",
    "plt.ylabel('loss')\n",
    "plt.xlabel('epoch')\n",
    "plt.legend(['train', 'test'], loc='upper left')\n",
    "plt.savefig('Model_loss3.jpg',dpi=500)\n",
    "plt.show()"
   ]
  },
  {
   "cell_type": "markdown",
   "id": "fa83cb11",
   "metadata": {},
   "source": [
    "# Image prediction"
   ]
  },
  {
   "cell_type": "code",
   "execution_count": 12,
   "id": "e1208d45",
   "metadata": {},
   "outputs": [],
   "source": [
    "import keras.utils as image\n",
    "import cv2"
   ]
  },
  {
   "cell_type": "code",
   "execution_count": 13,
   "id": "0c1f6ea1",
   "metadata": {},
   "outputs": [],
   "source": [
    "def predict_on_img(folder):\n",
    "    dictionary = {'Dark': 0, 'Green': 1, 'Light': 2, 'Medium': 3}\n",
    "    key_list = list(dictionary.keys())\n",
    "    value_list = list(dictionary.values())\n",
    "    images = []\n",
    "    for filename in os.listdir(folder):\n",
    "        test_image = image.load_img('data/prediction/' + filename, target_size = (64, 64))\n",
    "        test_image = image.img_to_array(test_image)\n",
    "        test_image = np.expand_dims(test_image, axis = 0)\n",
    "        result = cnn.predict(test_image/255.0)\n",
    "        prediction = np.argmax(result, axis = 1)\n",
    "        prediction = int(prediction)\n",
    "        pos = value_list.index(prediction)\n",
    "        \n",
    "        im = cv2.imread(os.path.join(folder,filename))\n",
    "        font = cv2.FONT_HERSHEY_SIMPLEX\n",
    "        cv2.putText(im, key_list[prediction], (10,60), font, 1, (0, 255, 0), 2, cv2.LINE_AA)\n",
    "        cv2.imwrite(filename+'_prediction3.jpg', im)\n",
    "        if im is not None:\n",
    "            images.append(im)"
   ]
  },
  {
   "cell_type": "code",
   "execution_count": 14,
   "id": "44bc31ca",
   "metadata": {
    "scrolled": true
   },
   "outputs": [
    {
     "name": "stdout",
     "output_type": "stream",
     "text": [
      "1/1 [==============================] - 0s 102ms/step\n",
      "1/1 [==============================] - 0s 23ms/step\n",
      "1/1 [==============================] - 0s 40ms/step\n",
      "1/1 [==============================] - 0s 24ms/step\n",
      "1/1 [==============================] - 0s 25ms/step\n",
      "1/1 [==============================] - 0s 25ms/step\n",
      "1/1 [==============================] - 0s 23ms/step\n"
     ]
    }
   ],
   "source": [
    "predict_on_img('data/prediction')"
   ]
  },
  {
   "cell_type": "markdown",
   "id": "601ffee2",
   "metadata": {},
   "source": [
    "# Confussion matrix"
   ]
  },
  {
   "cell_type": "code",
   "execution_count": 15,
   "id": "8ef79b95",
   "metadata": {},
   "outputs": [
    {
     "name": "stdout",
     "output_type": "stream",
     "text": [
      "13/13 [==============================] - 1s 93ms/step\n"
     ]
    }
   ],
   "source": [
    "predictions = cnn.predict(test_set)\n",
    "predictions = np.argmax(predictions, axis = 1)"
   ]
  },
  {
   "cell_type": "code",
   "execution_count": 16,
   "id": "f58e6676",
   "metadata": {},
   "outputs": [
    {
     "data": {
      "text/plain": [
       "array([0, 0, 0, 0, 0, 0, 0, 0, 0, 0, 0, 3, 0, 0, 0, 0, 0, 0, 0, 0, 0, 0,\n",
       "       0, 0, 0, 0, 0, 0, 0, 0, 0, 0, 0, 0, 0, 0, 0, 0, 0, 0, 0, 0, 0, 0,\n",
       "       0, 0, 0, 0, 0, 0, 0, 0, 0, 0, 0, 0, 0, 0, 0, 0, 0, 0, 0, 0, 0, 0,\n",
       "       3, 0, 0, 0, 0, 0, 0, 0, 0, 0, 0, 0, 0, 0, 0, 0, 0, 0, 0, 0, 0, 0,\n",
       "       0, 0, 0, 0, 0, 0, 0, 0, 0, 0, 0, 1, 1, 1, 1, 1, 1, 1, 1, 1, 1, 1,\n",
       "       1, 1, 1, 1, 1, 1, 1, 1, 1, 1, 1, 1, 1, 1, 1, 1, 1, 1, 1, 1, 1, 1,\n",
       "       1, 1, 1, 1, 1, 1, 1, 1, 1, 1, 1, 1, 1, 1, 1, 1, 1, 1, 1, 1, 1, 1,\n",
       "       1, 1, 1, 1, 1, 1, 1, 1, 1, 1, 1, 1, 1, 1, 1, 1, 1, 1, 1, 1, 1, 1,\n",
       "       1, 1, 1, 1, 1, 1, 1, 1, 1, 1, 1, 1, 1, 1, 1, 1, 1, 1, 1, 1, 1, 1,\n",
       "       2, 2, 2, 2, 2, 1, 2, 2, 2, 2, 2, 1, 2, 2, 2, 2, 2, 2, 2, 2, 2, 2,\n",
       "       2, 2, 2, 2, 2, 2, 2, 2, 2, 2, 2, 2, 2, 2, 2, 2, 2, 2, 2, 2, 2, 2,\n",
       "       2, 2, 2, 2, 2, 2, 2, 2, 2, 2, 2, 2, 2, 2, 2, 2, 2, 2, 2, 2, 2, 2,\n",
       "       2, 2, 2, 2, 2, 2, 2, 2, 2, 2, 2, 2, 2, 2, 2, 2, 2, 2, 2, 2, 2, 2,\n",
       "       2, 2, 2, 2, 2, 2, 2, 2, 2, 2, 2, 3, 3, 3, 0, 3, 3, 3, 3, 3, 3, 3,\n",
       "       3, 3, 3, 3, 3, 3, 3, 3, 3, 3, 3, 3, 3, 3, 3, 3, 3, 3, 0, 3, 3, 3,\n",
       "       3, 3, 3, 3, 3, 3, 3, 3, 3, 3, 3, 3, 3, 3, 3, 3, 3, 3, 3, 3, 3, 3,\n",
       "       3, 3, 3, 3, 3, 3, 3, 3, 0, 3, 3, 3, 3, 3, 3, 1, 3, 1, 2, 3, 3, 3,\n",
       "       3, 3, 3, 3, 3, 3, 3, 3, 3, 3, 3, 3, 3, 3, 3, 3, 3, 3, 3, 3, 3, 3],\n",
       "      dtype=int64)"
      ]
     },
     "execution_count": 16,
     "metadata": {},
     "output_type": "execute_result"
    }
   ],
   "source": [
    "predictions"
   ]
  },
  {
   "cell_type": "code",
   "execution_count": 17,
   "id": "6487edcc",
   "metadata": {},
   "outputs": [
    {
     "name": "stdout",
     "output_type": "stream",
     "text": [
      "13/13 [==============================] - 1s 87ms/step - loss: 0.0748 - accuracy: 0.9747\n"
     ]
    }
   ],
   "source": [
    "results_validation =cnn.evaluate(test_set, batch_size=32)"
   ]
  },
  {
   "cell_type": "code",
   "execution_count": 18,
   "id": "22d27c23",
   "metadata": {},
   "outputs": [
    {
     "name": "stdout",
     "output_type": "stream",
     "text": [
      "test loss, test acc: [0.07483682781457901, 0.9747474789619446]\n"
     ]
    }
   ],
   "source": [
    "print(\"test loss, test acc:\", results_validation)"
   ]
  },
  {
   "cell_type": "code",
   "execution_count": 19,
   "id": "4c3ceeaf",
   "metadata": {},
   "outputs": [
    {
     "data": {
      "text/plain": [
       "0.9747474747474747"
      ]
     },
     "execution_count": 19,
     "metadata": {},
     "output_type": "execute_result"
    }
   ],
   "source": [
    "from sklearn.metrics import accuracy_score\n",
    "accuracy_score(test_set.classes, predictions)"
   ]
  },
  {
   "cell_type": "code",
   "execution_count": 20,
   "id": "401dfa6f",
   "metadata": {},
   "outputs": [
    {
     "data": {
      "text/plain": [
       "array([[97,  0,  0,  2],\n",
       "       [ 0, 99,  0,  0],\n",
       "       [ 0,  2, 97,  0],\n",
       "       [ 3,  2,  1, 93]], dtype=int64)"
      ]
     },
     "execution_count": 20,
     "metadata": {},
     "output_type": "execute_result"
    }
   ],
   "source": [
    "from sklearn.metrics import confusion_matrix\n",
    "cm = confusion_matrix(test_set.classes, predictions)\n",
    "cm"
   ]
  },
  {
   "cell_type": "code",
   "execution_count": 21,
   "id": "110b057b",
   "metadata": {},
   "outputs": [
    {
     "data": {
      "image/png": "[encoded data removed]",
      "text/plain": [
       "<Figure size 432x288 with 2 Axes>"
      ]
     },
     "metadata": {
      "needs_background": "light"
     },
     "output_type": "display_data"
    }
   ],
   "source": [
    "import seaborn as sns\n",
    "sns.heatmap(cm, annot=True,cmap='PuBu');"
   ]
  },
  {
   "cell_type": "code",
   "execution_count": 22,
   "id": "281d80e4",
   "metadata": {},
   "outputs": [
    {
     "name": "stdout",
     "output_type": "stream",
     "text": [
      "              precision    recall  f1-score   support\n",
      "\n",
      "           0       0.97      0.98      0.97        99\n",
      "           1       0.96      1.00      0.98        99\n",
      "           2       0.99      0.98      0.98        99\n",
      "           3       0.98      0.94      0.96        99\n",
      "\n",
      "    accuracy                           0.97       396\n",
      "   macro avg       0.97      0.97      0.97       396\n",
      "weighted avg       0.97      0.97      0.97       396\n",
      "\n"
     ]
    }
   ],
   "source": [
    "from sklearn.metrics import classification_report\n",
    "print(classification_report(test_set.classes, predictions))"
   ]
  },
  {
   "cell_type": "markdown",
   "id": "ba9f47da",
   "metadata": {},
   "source": [
    "# Model saving"
   ]
  },
  {
   "cell_type": "code",
   "execution_count": 23,
   "id": "36c8b46a",
   "metadata": {},
   "outputs": [],
   "source": [
    "model_json = cnn.to_json()\n",
    "with open('cnn3.json','w') as json_file:\n",
    "    json_file.write(model_json)"
   ]
  },
  {
   "cell_type": "code",
   "execution_count": 24,
   "id": "366a6d70",
   "metadata": {},
   "outputs": [],
   "source": [
    "from keras.models import save_model\n",
    "network_saved = save_model(cnn, 'weights3.hdf5')"
   ]
  },
  {
   "cell_type": "markdown",
   "id": "224d9776",
   "metadata": {},
   "source": [
    "# Model loading"
   ]
  },
  {
   "cell_type": "code",
   "execution_count": null,
   "id": "1ed745ed",
   "metadata": {},
   "outputs": [],
   "source": [
    "with open('cnn2.json', 'r') as json_file:\n",
    "    json_saved_model = json_file.read()\n",
    "    json_saved_model"
   ]
  },
  {
   "cell_type": "code",
   "execution_count": null,
   "id": "07837a17",
   "metadata": {},
   "outputs": [],
   "source": [
    "network_loaded = tf.keras.models.model_from_json(json_saved_model)\n",
    "network_loaded.load_weights('weights2.hdf5')\n",
    "network_loaded.compile(loss = 'categorical_crossentropy', optimizer='Adam', metrics=['accuracy'])\n",
    "network_loaded.summary()"
   ]
  },
  {
   "cell_type": "code",
   "execution_count": null,
   "id": "f7e1ed09",
   "metadata": {},
   "outputs": [],
   "source": []
  }
 ],
 "metadata": {
  "kernelspec": {
   "display_name": "Python 3",
   "language": "python",
   "name": "python3"
  },
  "language_info": {
   "codemirror_mode": {
    "name": "ipython",
    "version": 3
   },
   "file_extension": ".py",
   "mimetype": "text/x-python",
   "name": "python",
   "nbconvert_exporter": "python",
   "pygments_lexer": "ipython3",
   "version": "3.8.8"
  }
 },
 "nbformat": 4,
 "nbformat_minor": 5
}
