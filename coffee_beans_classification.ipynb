{
 "cells": [
  {
   "cell_type": "code",
   "execution_count": 1,
   "id": "ba49c66f",
   "metadata": {},
   "outputs": [
    {
     "data": {
      "text/plain": [
       "'2.10.0'"
      ]
     },
     "execution_count": 1,
     "metadata": {},
     "output_type": "execute_result"
    }
   ],
   "source": [
    "import os\n",
    "os.environ['KMP_DUPLICATE_LIB_OK']='True'\n",
    "import tensorflow as tf\n",
    "import numpy as np\n",
    "import matplotlib.pyplot as plt\n",
    "from keras.preprocessing.image import ImageDataGenerator\n",
    "tf.__version__"
   ]
  },
  {
   "cell_type": "markdown",
   "id": "60630e23",
   "metadata": {},
   "source": [
    "# Traning and testing sets preparation"
   ]
  },
  {
   "cell_type": "code",
   "execution_count": 2,
   "id": "420833cd",
   "metadata": {},
   "outputs": [],
   "source": [
    "train_datagen = ImageDataGenerator(rescale = 1./255,\n",
    "                                   shear_range = 0.2,\n",
    "                                   zoom_range = 0.2,\n",
    "                                   horizontal_flip = True)"
   ]
  },
  {
   "cell_type": "code",
   "execution_count": 3,
   "id": "456ad191",
   "metadata": {},
   "outputs": [
    {
     "name": "stdout",
     "output_type": "stream",
     "text": [
      "Found 1200 images belonging to 4 classes.\n"
     ]
    }
   ],
   "source": [
    "training_set = train_datagen.flow_from_directory('data/train',\n",
    "                                                 target_size = (64, 64),\n",
    "                                                 batch_size = 32,\n",
    "                                                 shuffle=False,\n",
    "                                                 class_mode = 'categorical')"
   ]
  },
  {
   "cell_type": "code",
   "execution_count": 4,
   "id": "11f74c82",
   "metadata": {},
   "outputs": [
    {
     "name": "stdout",
     "output_type": "stream",
     "text": [
      "Found 396 images belonging to 4 classes.\n"
     ]
    }
   ],
   "source": [
    "test_datagen = ImageDataGenerator(rescale = 1./255)\n",
    "test_set = test_datagen.flow_from_directory('data/test', \n",
    "                                            target_size = (64, 64),\n",
    "                                            batch_size = 32,\n",
    "                                            shuffle=False,\n",
    "                                            class_mode = 'categorical')"
   ]
  },
  {
   "cell_type": "markdown",
   "id": "e797f735",
   "metadata": {},
   "source": [
    "# Model creation"
   ]
  },
  {
   "cell_type": "code",
   "execution_count": 6,
   "id": "18905675",
   "metadata": {},
   "outputs": [],
   "source": [
    "cnn = tf.keras.models.Sequential()\n",
    "cnn.add(tf.keras.layers.Conv2D(64, (3, 3), activation='relu', kernel_initializer='he_uniform', padding='same', input_shape=(64, 64, 3)))\n",
    "cnn.add(tf.keras.layers.Conv2D(64, (3, 3), activation='relu', kernel_initializer='he_uniform', padding='same'))\n",
    "cnn.add(tf.keras.layers.MaxPooling2D((2, 2)))\n",
    "cnn.add(tf.keras.layers.Conv2D(32, (3, 3), activation='relu', kernel_initializer='he_uniform', padding='same'))\n",
    "cnn.add(tf.keras.layers.Conv2D(32, (3, 3), activation='relu', kernel_initializer='he_uniform', padding='same'))\n",
    "cnn.add(tf.keras.layers.MaxPooling2D((2, 2)))\n",
    "cnn.add(tf.keras.layers.Conv2D(128, (3, 3), activation='relu', kernel_initializer='he_uniform', padding='same'))\n",
    "cnn.add(tf.keras.layers.Conv2D(128, (3, 3), activation='relu', kernel_initializer='he_uniform', padding='same'))\n",
    "cnn.add(tf.keras.layers.MaxPooling2D((2, 2)))\n",
    "cnn.add(tf.keras.layers.Flatten())\n",
    "cnn.add(tf.keras.layers.Dense(128, activation='relu', kernel_initializer='he_uniform'))\n",
    "cnn.add(tf.keras.layers.Dense(4, activation='softmax'))"
   ]
  },
  {
   "cell_type": "code",
   "execution_count": null,
   "id": "78de0ff1",
   "metadata": {},
   "outputs": [],
   "source": []
  },
  {
   "cell_type": "code",
   "execution_count": 7,
   "id": "93088cb3",
   "metadata": {},
   "outputs": [],
   "source": [
    "cnn.compile(optimizer = 'adam', loss = 'categorical_crossentropy', metrics = ['accuracy'])"
   ]
  },
  {
   "cell_type": "code",
   "execution_count": null,
   "id": "071b1fc8",
   "metadata": {},
   "outputs": [],
   "source": [
    "cnn.summary()"
   ]
  },
  {
   "cell_type": "code",
   "execution_count": 43,
   "id": "3b4a7120",
   "metadata": {},
   "outputs": [
    {
     "data": {
      "image/png": "[encoded data removed]",
      "text/plain": [
       "<PIL.Image.Image image mode=RGBA size=796x381 at 0x27A034E5FD0>"
      ]
     },
     "execution_count": 43,
     "metadata": {},
     "output_type": "execute_result"
    }
   ],
   "source": [
    "import visualkeras\n",
    "visualkeras.layered_view(cnn, legend=True) \n",
    "\n",
    "from PIL import ImageFont\n",
    "font = ImageFont.truetype(\"arial.ttf\", 12)\n",
    "visualkeras.layered_view(cnn, legend=True, font=font, to_file='model_layered1.png')"
   ]
  },
  {
   "cell_type": "markdown",
   "id": "0ee8583d",
   "metadata": {},
   "source": [
    "# The training process"
   ]
  },
  {
   "cell_type": "code",
   "execution_count": 14,
   "id": "1f6fa9d5",
   "metadata": {},
   "outputs": [
    {
     "name": "stdout",
     "output_type": "stream",
     "text": [
      "Epoch 1/20\n",
      "38/38 [==============================] - 33s 834ms/step - loss: 5.1469 - accuracy: 0.2025 - val_loss: 1.3850 - val_accuracy: 0.2854\n",
      "Epoch 2/20\n",
      "38/38 [==============================] - 31s 820ms/step - loss: 1.3944 - accuracy: 0.1600 - val_loss: 1.3805 - val_accuracy: 0.2854\n",
      "Epoch 3/20\n",
      "38/38 [==============================] - 31s 825ms/step - loss: 1.3872 - accuracy: 0.3175 - val_loss: 1.3633 - val_accuracy: 0.2551\n",
      "Epoch 4/20\n",
      "38/38 [==============================] - 31s 813ms/step - loss: 1.3810 - accuracy: 0.3367 - val_loss: 2.9098 - val_accuracy: 0.2500\n",
      "Epoch 5/20\n",
      "38/38 [==============================] - 31s 818ms/step - loss: 1.5898 - accuracy: 0.2242 - val_loss: 1.3855 - val_accuracy: 0.2500\n",
      "Epoch 6/20\n",
      "38/38 [==============================] - 31s 819ms/step - loss: 1.4067 - accuracy: 0.3250 - val_loss: 1.3762 - val_accuracy: 0.2500\n",
      "Epoch 7/20\n",
      "38/38 [==============================] - 31s 825ms/step - loss: 1.4042 - accuracy: 0.2142 - val_loss: 1.3631 - val_accuracy: 0.4899\n",
      "Epoch 8/20\n",
      "38/38 [==============================] - 31s 815ms/step - loss: 1.3911 - accuracy: 0.3667 - val_loss: 1.3501 - val_accuracy: 0.4520\n",
      "Epoch 9/20\n",
      "38/38 [==============================] - 35s 916ms/step - loss: 1.3024 - accuracy: 0.4942 - val_loss: 1.3359 - val_accuracy: 0.2500\n",
      "Epoch 10/20\n",
      "38/38 [==============================] - 32s 836ms/step - loss: 1.1569 - accuracy: 0.4583 - val_loss: 0.8965 - val_accuracy: 0.5960\n",
      "Epoch 11/20\n",
      "38/38 [==============================] - 37s 988ms/step - loss: 0.8961 - accuracy: 0.5475 - val_loss: 0.8739 - val_accuracy: 0.5657\n",
      "Epoch 12/20\n",
      "38/38 [==============================] - 40s 1s/step - loss: 1.0243 - accuracy: 0.5542 - val_loss: 0.7354 - val_accuracy: 0.6692\n",
      "Epoch 13/20\n",
      "38/38 [==============================] - 40s 1s/step - loss: 0.8177 - accuracy: 0.5683 - val_loss: 0.6373 - val_accuracy: 0.6869\n",
      "Epoch 14/20\n",
      "38/38 [==============================] - 52s 1s/step - loss: 0.8268 - accuracy: 0.5667 - val_loss: 0.6887 - val_accuracy: 0.6490\n",
      "Epoch 15/20\n",
      "38/38 [==============================] - 49s 1s/step - loss: 0.6860 - accuracy: 0.6192 - val_loss: 0.4888 - val_accuracy: 0.8232\n",
      "Epoch 16/20\n",
      "38/38 [==============================] - 32s 851ms/step - loss: 0.5187 - accuracy: 0.7917 - val_loss: 0.3159 - val_accuracy: 0.8889\n",
      "Epoch 17/20\n",
      "38/38 [==============================] - 31s 822ms/step - loss: 0.4545 - accuracy: 0.7917 - val_loss: 0.4148 - val_accuracy: 0.7879\n",
      "Epoch 18/20\n",
      "38/38 [==============================] - 43s 1s/step - loss: 0.4997 - accuracy: 0.8125 - val_loss: 0.2491 - val_accuracy: 0.9343\n",
      "Epoch 19/20\n",
      "38/38 [==============================] - 52s 1s/step - loss: 0.2997 - accuracy: 0.8983 - val_loss: 0.3287 - val_accuracy: 0.8914\n",
      "Epoch 20/20\n",
      "38/38 [==============================] - 52s 1s/step - loss: 0.2936 - accuracy: 0.9000 - val_loss: 0.2264 - val_accuracy: 0.9167\n"
     ]
    }
   ],
   "source": [
    "hist=cnn.fit(x = training_set, validation_data = test_set, epochs = 20)"
   ]
  },
  {
   "cell_type": "code",
   "execution_count": 44,
   "id": "c99fcb4f",
   "metadata": {},
   "outputs": [
    {
     "data": {
      "image/png": "[encoded data removed]",
      "text/plain": [
       "<Figure size 432x288 with 1 Axes>"
      ]
     },
     "metadata": {
      "needs_background": "light"
     },
     "output_type": "display_data"
    }
   ],
   "source": [
    "plt.plot(hist.history['accuracy'],color='red')\n",
    "plt.plot(hist.history['val_accuracy'], color='teal')\n",
    "plt.title('model accuracy')\n",
    "plt.ylabel('accuracy')\n",
    "plt.xlabel('epoch')\n",
    "plt.legend(['train', 'test'], loc='upper left')\n",
    "plt.savefig('Model_accuracy.jpg',dpi=500)\n",
    "plt.show()"
   ]
  },
  {
   "cell_type": "code",
   "execution_count": 34,
   "id": "a58ddc96",
   "metadata": {},
   "outputs": [
    {
     "data": {
      "image/png": "[encoded data removed]",
      "text/plain": [
       "<Figure size 432x288 with 1 Axes>"
      ]
     },
     "metadata": {
      "needs_background": "light"
     },
     "output_type": "display_data"
    }
   ],
   "source": [
    "plt.plot(hist.history['loss'], color='red')\n",
    "plt.plot(hist.history['val_loss'], color='teal')\n",
    "plt.title('model loss')\n",
    "plt.ylabel('loss')\n",
    "plt.xlabel('epoch')\n",
    "plt.legend(['train', 'test'], loc='upper left')\n",
    "plt.savefig('Model_loss.jpg',dpi=500)\n",
    "plt.show()"
   ]
  },
  {
   "cell_type": "markdown",
   "id": "f2ea05fc",
   "metadata": {},
   "source": [
    "# Image prediction"
   ]
  },
  {
   "cell_type": "code",
   "execution_count": 81,
   "id": "b8d72c2a",
   "metadata": {},
   "outputs": [],
   "source": [
    "import keras.utils as image\n",
    "import cv2"
   ]
  },
  {
   "cell_type": "code",
   "execution_count": 101,
   "id": "6132cee3",
   "metadata": {},
   "outputs": [],
   "source": [
    "def predict_on_img(folder):\n",
    "    dictionary = {'Dark': 0, 'Green': 1, 'Light': 2, 'Medium': 3}\n",
    "    key_list = list(dictionary.keys())\n",
    "    value_list = list(dictionary.values())\n",
    "    images = []\n",
    "    for filename in os.listdir(folder):\n",
    "        test_image = image.load_img('data/prediction/' + filename, target_size = (64, 64))\n",
    "        test_image = image.img_to_array(test_image)\n",
    "        test_image = np.expand_dims(test_image, axis = 0)\n",
    "        result = cnn.predict(test_image/255.0)\n",
    "        prediction = np.argmax(result, axis = 1)\n",
    "        prediction = int(prediction)\n",
    "        pos = value_list.index(prediction)\n",
    "        \n",
    "        im = cv2.imread(os.path.join(folder,filename))\n",
    "        font = cv2.FONT_HERSHEY_SIMPLEX\n",
    "        cv2.putText(im, key_list[prediction], (10,60), font, 1, (0, 255, 0), 2, cv2.LINE_AA)\n",
    "        cv2.imwrite(filename+'_prediction.jpg', im)\n",
    "        if im is not None:\n",
    "            images.append(im)"
   ]
  },
  {
   "cell_type": "code",
   "execution_count": 102,
   "id": "6e0db486",
   "metadata": {
    "scrolled": true
   },
   "outputs": [
    {
     "name": "stdout",
     "output_type": "stream",
     "text": [
      "1/1 [==============================] - 0s 34ms/step\n",
      "1/1 [==============================] - 0s 38ms/step\n",
      "1/1 [==============================] - 0s 35ms/step\n",
      "1/1 [==============================] - 0s 38ms/step\n",
      "1/1 [==============================] - 0s 32ms/step\n",
      "1/1 [==============================] - 0s 34ms/step\n",
      "1/1 [==============================] - 0s 37ms/step\n",
      "1/1 [==============================] - 0s 40ms/step\n"
     ]
    }
   ],
   "source": [
    "predict_on_img('data/prediction')"
   ]
  },
  {
   "cell_type": "markdown",
   "id": "73b752d4",
   "metadata": {},
   "source": [
    "# Confussion matrix"
   ]
  },
  {
   "cell_type": "code",
   "execution_count": 27,
   "id": "01007281",
   "metadata": {},
   "outputs": [
    {
     "name": "stdout",
     "output_type": "stream",
     "text": [
      "13/13 [==============================] - 3s 197ms/step\n"
     ]
    }
   ],
   "source": [
    "predictions = cnn.predict(test_set)\n",
    "predictions = np.argmax(predictions, axis = 1)"
   ]
  },
  {
   "cell_type": "code",
   "execution_count": 28,
   "id": "a82f8cbb",
   "metadata": {},
   "outputs": [
    {
     "data": {
      "text/plain": [
       "array([0, 0, 0, 0, 0, 0, 0, 0, 0, 0, 0, 0, 0, 0, 0, 0, 0, 0, 0, 0, 0, 0,\n",
       "       0, 0, 0, 0, 0, 0, 0, 0, 0, 0, 0, 0, 0, 0, 0, 0, 0, 0, 0, 0, 0, 0,\n",
       "       0, 0, 0, 0, 0, 0, 0, 0, 0, 0, 0, 0, 0, 0, 0, 0, 0, 0, 0, 0, 0, 0,\n",
       "       0, 0, 0, 0, 0, 0, 0, 0, 0, 0, 0, 0, 0, 0, 0, 0, 0, 0, 0, 0, 0, 0,\n",
       "       0, 0, 0, 0, 0, 0, 0, 0, 0, 0, 0, 1, 1, 1, 1, 1, 1, 1, 1, 1, 1, 1,\n",
       "       1, 1, 1, 1, 1, 1, 1, 1, 1, 1, 1, 1, 1, 1, 1, 1, 1, 2, 2, 1, 1, 1,\n",
       "       1, 1, 1, 1, 1, 1, 1, 1, 1, 1, 1, 1, 1, 1, 1, 1, 1, 1, 1, 1, 1, 1,\n",
       "       1, 1, 1, 1, 1, 1, 1, 1, 1, 1, 1, 1, 1, 1, 1, 1, 1, 1, 1, 1, 1, 1,\n",
       "       1, 1, 1, 1, 1, 1, 1, 1, 1, 1, 1, 1, 1, 1, 1, 1, 1, 1, 1, 1, 1, 1,\n",
       "       2, 2, 2, 2, 2, 1, 2, 2, 2, 2, 2, 2, 2, 2, 2, 2, 2, 2, 2, 2, 2, 2,\n",
       "       2, 2, 2, 2, 2, 2, 2, 2, 2, 2, 2, 2, 2, 2, 2, 2, 2, 2, 2, 2, 2, 2,\n",
       "       2, 2, 1, 2, 2, 2, 2, 2, 2, 2, 2, 2, 2, 2, 2, 2, 2, 2, 2, 2, 2, 2,\n",
       "       2, 2, 2, 2, 2, 2, 2, 2, 2, 2, 2, 2, 2, 2, 2, 2, 2, 2, 2, 2, 2, 2,\n",
       "       2, 2, 2, 2, 2, 2, 2, 2, 2, 2, 2, 3, 3, 3, 0, 3, 3, 0, 3, 3, 3, 3,\n",
       "       3, 0, 3, 0, 3, 3, 3, 3, 3, 3, 3, 0, 0, 3, 3, 3, 0, 0, 0, 3, 3, 0,\n",
       "       3, 3, 0, 3, 3, 0, 3, 3, 0, 3, 3, 3, 0, 3, 3, 3, 3, 3, 3, 0, 3, 0,\n",
       "       3, 3, 0, 3, 0, 3, 3, 3, 0, 3, 3, 0, 0, 3, 3, 0, 3, 3, 1, 3, 3, 0,\n",
       "       3, 3, 3, 3, 3, 0, 3, 3, 3, 0, 3, 3, 3, 0, 3, 3, 3, 0, 0, 3, 3, 3],\n",
       "      dtype=int64)"
      ]
     },
     "execution_count": 28,
     "metadata": {},
     "output_type": "execute_result"
    }
   ],
   "source": [
    "predictions"
   ]
  },
  {
   "cell_type": "code",
   "execution_count": 29,
   "id": "89338a89",
   "metadata": {},
   "outputs": [
    {
     "name": "stdout",
     "output_type": "stream",
     "text": [
      "13/13 [==============================] - 2s 184ms/step - loss: 0.2264 - accuracy: 0.9167\n"
     ]
    }
   ],
   "source": [
    "results_validation =cnn.evaluate(test_set, batch_size=32)"
   ]
  },
  {
   "cell_type": "code",
   "execution_count": 30,
   "id": "64917090",
   "metadata": {},
   "outputs": [
    {
     "name": "stdout",
     "output_type": "stream",
     "text": [
      "test loss, test acc: [0.22643926739692688, 0.9166666865348816]\n"
     ]
    }
   ],
   "source": [
    "print(\"test loss, test acc:\", results_validation)"
   ]
  },
  {
   "cell_type": "code",
   "execution_count": 31,
   "id": "d514da73",
   "metadata": {},
   "outputs": [
    {
     "data": {
      "text/plain": [
       "0.9166666666666666"
      ]
     },
     "execution_count": 31,
     "metadata": {},
     "output_type": "execute_result"
    }
   ],
   "source": [
    "from sklearn.metrics import accuracy_score\n",
    "accuracy_score(test_set.classes, predictions)"
   ]
  },
  {
   "cell_type": "code",
   "execution_count": 32,
   "id": "42ac4720",
   "metadata": {},
   "outputs": [
    {
     "data": {
      "text/plain": [
       "array([[99,  0,  0,  0],\n",
       "       [ 0, 97,  2,  0],\n",
       "       [ 0,  2, 97,  0],\n",
       "       [28,  1,  0, 70]], dtype=int64)"
      ]
     },
     "execution_count": 32,
     "metadata": {},
     "output_type": "execute_result"
    }
   ],
   "source": [
    "from sklearn.metrics import confusion_matrix\n",
    "cm = confusion_matrix(test_set.classes, predictions)\n",
    "cm"
   ]
  },
  {
   "cell_type": "code",
   "execution_count": 41,
   "id": "5bda4e8e",
   "metadata": {},
   "outputs": [
    {
     "data": {
      "image/png": "[encoded data removed]",
      "text/plain": [
       "<Figure size 432x288 with 2 Axes>"
      ]
     },
     "metadata": {
      "needs_background": "light"
     },
     "output_type": "display_data"
    }
   ],
   "source": [
    "import seaborn as sns\n",
    "sns.heatmap(cm, annot=True,cmap='PuBu');"
   ]
  },
  {
   "cell_type": "code",
   "execution_count": 45,
   "id": "4815a50f",
   "metadata": {},
   "outputs": [
    {
     "name": "stdout",
     "output_type": "stream",
     "text": [
      "              precision    recall  f1-score   support\n",
      "\n",
      "           0       0.78      1.00      0.88        99\n",
      "           1       0.97      0.98      0.97        99\n",
      "           2       0.98      0.98      0.98        99\n",
      "           3       1.00      0.71      0.83        99\n",
      "\n",
      "    accuracy                           0.92       396\n",
      "   macro avg       0.93      0.92      0.91       396\n",
      "weighted avg       0.93      0.92      0.91       396\n",
      "\n"
     ]
    }
   ],
   "source": [
    "from sklearn.metrics import classification_report\n",
    "print(classification_report(test_set.classes, predictions))"
   ]
  },
  {
   "cell_type": "markdown",
   "id": "f11124bc",
   "metadata": {},
   "source": [
    "# Model saving"
   ]
  },
  {
   "cell_type": "code",
   "execution_count": 53,
   "id": "1db298a3",
   "metadata": {},
   "outputs": [],
   "source": [
    "model_json = cnn.to_json()\n",
    "with open('cnn1.json','w') as json_file:\n",
    "    json_file.write(model_json)"
   ]
  },
  {
   "cell_type": "code",
   "execution_count": 54,
   "id": "0667d699",
   "metadata": {},
   "outputs": [],
   "source": [
    "from keras.models import save_model\n",
    "network_saved = save_model(cnn, 'weights.hdf5')"
   ]
  },
  {
   "cell_type": "markdown",
   "id": "70e96cd8",
   "metadata": {},
   "source": [
    "# Model loading"
   ]
  },
  {
   "cell_type": "code",
   "execution_count": 51,
   "id": "d6739b21",
   "metadata": {},
   "outputs": [],
   "source": [
    "with open('cnn1.json', 'r') as json_file:\n",
    "    json_saved_model = json_file.read()\n",
    "    json_saved_model"
   ]
  },
  {
   "cell_type": "code",
   "execution_count": 52,
   "id": "195b6992",
   "metadata": {},
   "outputs": [
    {
     "name": "stdout",
     "output_type": "stream",
     "text": [
      "Model: \"sequential\"\n",
      "_________________________________________________________________\n",
      " Layer (type)                Output Shape              Param #   \n",
      "=================================================================\n",
      " conv2d (Conv2D)             (None, 64, 64, 64)        1792      \n",
      "                                                                 \n",
      " conv2d_1 (Conv2D)           (None, 64, 64, 64)        36928     \n",
      "                                                                 \n",
      " max_pooling2d (MaxPooling2D  (None, 32, 32, 64)       0         \n",
      " )                                                               \n",
      "                                                                 \n",
      " conv2d_2 (Conv2D)           (None, 32, 32, 32)        18464     \n",
      "                                                                 \n",
      " conv2d_3 (Conv2D)           (None, 32, 32, 32)        9248      \n",
      "                                                                 \n",
      " max_pooling2d_1 (MaxPooling  (None, 16, 16, 32)       0         \n",
      " 2D)                                                             \n",
      "                                                                 \n",
      " conv2d_4 (Conv2D)           (None, 16, 16, 128)       36992     \n",
      "                                                                 \n",
      " conv2d_5 (Conv2D)           (None, 16, 16, 128)       147584    \n",
      "                                                                 \n",
      " max_pooling2d_2 (MaxPooling  (None, 8, 8, 128)        0         \n",
      " 2D)                                                             \n",
      "                                                                 \n",
      " flatten (Flatten)           (None, 8192)              0         \n",
      "                                                                 \n",
      " dense (Dense)               (None, 128)               1048704   \n",
      "                                                                 \n",
      " dense_1 (Dense)             (None, 4)                 516       \n",
      "                                                                 \n",
      "=================================================================\n",
      "Total params: 1,300,228\n",
      "Trainable params: 1,300,228\n",
      "Non-trainable params: 0\n",
      "_________________________________________________________________\n"
     ]
    }
   ],
   "source": [
    "network_loaded = tf.keras.models.model_from_json(json_saved_model)\n",
    "network_loaded.load_weights('weights.hdf5')\n",
    "network_loaded.compile(loss = 'categorical_crossentropy', optimizer='Adam', metrics=['accuracy'])\n",
    "network_loaded.summary()"
   ]
  },
  {
   "cell_type": "code",
   "execution_count": null,
   "id": "ce21ff8d",
   "metadata": {},
   "outputs": [],
   "source": []
  }
 ],
 "metadata": {
  "kernelspec": {
   "display_name": "Python 3",
   "language": "python",
   "name": "python3"
  },
  "language_info": {
   "codemirror_mode": {
    "name": "ipython",
    "version": 3
   },
   "file_extension": ".py",
   "mimetype": "text/x-python",
   "name": "python",
   "nbconvert_exporter": "python",
   "pygments_lexer": "ipython3",
   "version": "3.8.8"
  }
 },
 "nbformat": 4,
 "nbformat_minor": 5
}
