{
 "cells": [
  {
   "cell_type": "code",
   "execution_count": 1,
   "id": "1d2b2c92",
   "metadata": {},
   "outputs": [
    {
     "data": {
      "text/plain": [
       "'2.10.0'"
      ]
     },
     "execution_count": 1,
     "metadata": {},
     "output_type": "execute_result"
    }
   ],
   "source": [
    "import os\n",
    "os.environ['KMP_DUPLICATE_LIB_OK']='True'\n",
    "import tensorflow as tf\n",
    "import numpy as np\n",
    "import matplotlib.pyplot as plt\n",
    "from keras.preprocessing.image import ImageDataGenerator\n",
    "tf.__version__"
   ]
  },
  {
   "cell_type": "markdown",
   "id": "2b389e60",
   "metadata": {},
   "source": [
    "# Traning and testing sets preparation"
   ]
  },
  {
   "cell_type": "code",
   "execution_count": 2,
   "id": "be0e3839",
   "metadata": {},
   "outputs": [],
   "source": [
    "train_datagen = ImageDataGenerator(rescale = 1./255,\n",
    "                                   shear_range = 0.2,\n",
    "                                   zoom_range = 0.2,\n",
    "                                   horizontal_flip = True)"
   ]
  },
  {
   "cell_type": "code",
   "execution_count": 3,
   "id": "12adbf4c",
   "metadata": {},
   "outputs": [
    {
     "name": "stdout",
     "output_type": "stream",
     "text": [
      "Found 1200 images belonging to 4 classes.\n"
     ]
    }
   ],
   "source": [
    "training_set = train_datagen.flow_from_directory('data/train',\n",
    "                                                 target_size = (64, 64),\n",
    "                                                 batch_size = 32,\n",
    "                                                 shuffle=False,\n",
    "                                                 class_mode = 'categorical')"
   ]
  },
  {
   "cell_type": "code",
   "execution_count": 4,
   "id": "edf93aff",
   "metadata": {},
   "outputs": [
    {
     "name": "stdout",
     "output_type": "stream",
     "text": [
      "Found 396 images belonging to 4 classes.\n"
     ]
    }
   ],
   "source": [
    "test_datagen = ImageDataGenerator(rescale = 1./255)\n",
    "test_set = test_datagen.flow_from_directory('data/test', \n",
    "                                            target_size = (64, 64),\n",
    "                                            batch_size = 32,\n",
    "                                            shuffle=False,\n",
    "                                            class_mode = 'categorical')"
   ]
  },
  {
   "cell_type": "markdown",
   "id": "c6c42eed",
   "metadata": {},
   "source": [
    "# Model creation"
   ]
  },
  {
   "cell_type": "markdown",
   "id": "7c2be5d3",
   "metadata": {},
   "source": [
    "### First model:"
   ]
  },
  {
   "cell_type": "code",
   "execution_count": null,
   "id": "5f365d50",
   "metadata": {},
   "outputs": [],
   "source": [
    "#cnn = tf.keras.models.Sequential()\n",
    "#cnn.add(tf.keras.layers.Conv2D(64, (3, 3), activation='relu', kernel_initializer='he_uniform', padding='same', input_shape=(64, 64, 3)))\n",
    "#cnn.add(tf.keras.layers.Conv2D(64, (3, 3), activation='relu', kernel_initializer='he_uniform', padding='same'))\n",
    "#cnn.add(tf.keras.layers.MaxPooling2D((2, 2)))\n",
    "#cnn.add(tf.keras.layers.Conv2D(32, (3, 3), activation='relu', kernel_initializer='he_uniform', padding='same'))\n",
    "#cnn.add(tf.keras.layers.Conv2D(32, (3, 3), activation='relu', kernel_initializer='he_uniform', padding='same'))\n",
    "#cnn.add(tf.keras.layers.MaxPooling2D((2, 2)))\n",
    "#cnn.add(tf.keras.layers.Conv2D(128, (3, 3), activation='relu', kernel_initializer='he_uniform', padding='same'))\n",
    "#cnn.add(tf.keras.layers.Conv2D(128, (3, 3), activation='relu', kernel_initializer='he_uniform', padding='same'))\n",
    "#cnn.add(tf.keras.layers.MaxPooling2D((2, 2)))\n",
    "#cnn.add(tf.keras.layers.Flatten())\n",
    "#cnn.add(tf.keras.layers.Dense(128, activation='relu', kernel_initializer='he_uniform'))\n",
    "#cnn.add(tf.keras.layers.Dense(4, activation='softmax'))"
   ]
  },
  {
   "cell_type": "markdown",
   "id": "ca5eafb5",
   "metadata": {},
   "source": [
    "### Second model:"
   ]
  },
  {
   "cell_type": "code",
   "execution_count": null,
   "id": "59d6daf8",
   "metadata": {},
   "outputs": [],
   "source": [
    "#cnn = tf.keras.models.Sequential()\n",
    "#cnn.add(tf.keras.layers.Conv2D(64, (3, 3), activation='relu', padding='same', input_shape=(64, 64, 3)))\n",
    "#cnn.add(tf.keras.layers.AveragePooling2D(pool_size=2, strides=2))\n",
    "#cnn.add(tf.keras.layers.Conv2D(32, (3, 3), activation='relu', padding='same'))\n",
    "#cnn.add(tf.keras.layers.AveragePooling2D(pool_size=2, strides=2))\n",
    "#cnn.add(tf.keras.layers.Conv2D(64, (3, 3), activation='relu', padding='same'))\n",
    "#cnn.add(tf.keras.layers.Flatten())\n",
    "#cnn.add(tf.keras.layers.Dense(128, activation='relu'))\n",
    "#cnn.add(tf.keras.layers.Dense(4, activation='softmax'))"
   ]
  },
  {
   "cell_type": "markdown",
   "id": "eac91e53",
   "metadata": {},
   "source": [
    "### Third model:"
   ]
  },
  {
   "cell_type": "code",
   "execution_count": 5,
   "id": "7a692a38",
   "metadata": {},
   "outputs": [],
   "source": [
    "cnn = tf.keras.models.Sequential()\n",
    "cnn.add(tf.keras.layers.Conv2D(filters=32, kernel_size=3, activation='relu', input_shape=(64,64,3)))\n",
    "cnn.add(tf.keras.layers.MaxPool2D(pool_size=2, strides=2))\n",
    "cnn.add(tf.keras.layers.Conv2D(filters=32, kernel_size=3, activation='relu'))\n",
    "cnn.add(tf.keras.layers.Flatten())\n",
    "cnn.add(tf.keras.layers.Dense(units=4, activation='softmax'))"
   ]
  },
  {
   "cell_type": "code",
   "execution_count": 6,
   "id": "93088cb3",
   "metadata": {},
   "outputs": [],
   "source": [
    "cnn.compile(optimizer = 'adam', loss = 'categorical_crossentropy', metrics = ['accuracy'])"
   ]
  },
  {
   "cell_type": "code",
   "execution_count": 7,
   "id": "492b34c4",
   "metadata": {},
   "outputs": [
    {
     "name": "stdout",
     "output_type": "stream",
     "text": [
      "Model: \"sequential\"\n",
      "_________________________________________________________________\n",
      " Layer (type)                Output Shape              Param #   \n",
      "=================================================================\n",
      " conv2d (Conv2D)             (None, 62, 62, 32)        896       \n",
      "                                                                 \n",
      " max_pooling2d (MaxPooling2D  (None, 31, 31, 32)       0         \n",
      " )                                                               \n",
      "                                                                 \n",
      " conv2d_1 (Conv2D)           (None, 29, 29, 32)        9248      \n",
      "                                                                 \n",
      " flatten (Flatten)           (None, 26912)             0         \n",
      "                                                                 \n",
      " dense (Dense)               (None, 4)                 107652    \n",
      "                                                                 \n",
      "=================================================================\n",
      "Total params: 117,796\n",
      "Trainable params: 117,796\n",
      "Non-trainable params: 0\n",
      "_________________________________________________________________\n"
     ]
    }
   ],
   "source": [
    "cnn.summary()"
   ]
  },
  {
   "cell_type": "code",
   "execution_count": 8,
   "id": "7e9d7371",
   "metadata": {},
   "outputs": [
    {
     "data": {
      "image/png": "[encoded data removed]",
      "text/plain": [
       "<PIL.Image.Image image mode=RGBA size=585x370 at 0x2602779F3A0>"
      ]
     },
     "execution_count": 8,
     "metadata": {},
     "output_type": "execute_result"
    }
   ],
   "source": [
    "import visualkeras\n",
    "visualkeras.layered_view(cnn, legend=True) \n",
    "\n",
    "from PIL import ImageFont\n",
    "font = ImageFont.truetype(\"arial.ttf\", 12)\n",
    "visualkeras.layered_view(cnn, legend=True, font=font, to_file='model_layered3.png')"
   ]
  },
  {
   "cell_type": "markdown",
   "id": "ab89e659",
   "metadata": {},
   "source": [
    "# The training process"
   ]
  },
  {
   "cell_type": "code",
   "execution_count": 9,
   "id": "6d10e6be",
   "metadata": {},
   "outputs": [
    {
     "name": "stdout",
     "output_type": "stream",
     "text": [
      "Epoch 1/50\n",
      "38/38 [==============================] - 14s 347ms/step - loss: 1.6264 - accuracy: 0.2483 - val_loss: 1.3263 - val_accuracy: 0.5000\n",
      "Epoch 2/50\n",
      "38/38 [==============================] - 17s 453ms/step - loss: 1.2890 - accuracy: 0.4050 - val_loss: 1.3701 - val_accuracy: 0.4747\n",
      "Epoch 3/50\n",
      "38/38 [==============================] - 9s 248ms/step - loss: 1.2296 - accuracy: 0.3858 - val_loss: 1.0374 - val_accuracy: 0.6187\n",
      "Epoch 4/50\n",
      "38/38 [==============================] - 8s 222ms/step - loss: 0.9936 - accuracy: 0.4750 - val_loss: 0.8545 - val_accuracy: 0.5884\n",
      "Epoch 5/50\n",
      "38/38 [==============================] - 8s 209ms/step - loss: 0.7998 - accuracy: 0.6017 - val_loss: 0.5837 - val_accuracy: 0.6970\n",
      "Epoch 6/50\n",
      "38/38 [==============================] - 8s 203ms/step - loss: 0.6784 - accuracy: 0.6758 - val_loss: 0.6384 - val_accuracy: 0.6212\n",
      "Epoch 7/50\n",
      "38/38 [==============================] - 10s 267ms/step - loss: 0.7437 - accuracy: 0.7417 - val_loss: 0.4501 - val_accuracy: 0.9066\n",
      "Epoch 8/50\n",
      "38/38 [==============================] - 10s 264ms/step - loss: 0.5705 - accuracy: 0.7492 - val_loss: 0.6138 - val_accuracy: 0.7803\n",
      "Epoch 9/50\n",
      "38/38 [==============================] - 12s 325ms/step - loss: 0.5765 - accuracy: 0.7958 - val_loss: 0.3405 - val_accuracy: 0.9217\n",
      "Epoch 10/50\n",
      "38/38 [==============================] - 18s 471ms/step - loss: 0.2972 - accuracy: 0.9308 - val_loss: 0.4064 - val_accuracy: 0.8460\n",
      "Epoch 11/50\n",
      "38/38 [==============================] - 12s 305ms/step - loss: 0.1905 - accuracy: 0.9458 - val_loss: 0.2891 - val_accuracy: 0.8939\n",
      "Epoch 12/50\n",
      "38/38 [==============================] - 11s 293ms/step - loss: 0.1967 - accuracy: 0.9308 - val_loss: 0.2414 - val_accuracy: 0.9116\n",
      "Epoch 13/50\n",
      "38/38 [==============================] - 16s 419ms/step - loss: 0.1619 - accuracy: 0.9517 - val_loss: 0.1076 - val_accuracy: 0.9672\n",
      "Epoch 14/50\n",
      "38/38 [==============================] - 11s 276ms/step - loss: 0.1820 - accuracy: 0.9392 - val_loss: 0.2945 - val_accuracy: 0.8939\n",
      "Epoch 15/50\n",
      "38/38 [==============================] - 10s 265ms/step - loss: 0.1767 - accuracy: 0.9367 - val_loss: 0.1924 - val_accuracy: 0.9217\n",
      "Epoch 16/50\n",
      "38/38 [==============================] - 9s 246ms/step - loss: 0.1448 - accuracy: 0.9517 - val_loss: 0.2495 - val_accuracy: 0.8990\n",
      "Epoch 17/50\n",
      "38/38 [==============================] - 13s 335ms/step - loss: 0.1175 - accuracy: 0.9600 - val_loss: 0.2509 - val_accuracy: 0.8939\n",
      "Epoch 18/50\n",
      "38/38 [==============================] - 14s 352ms/step - loss: 0.1157 - accuracy: 0.9600 - val_loss: 0.1468 - val_accuracy: 0.9520\n",
      "Epoch 19/50\n",
      "38/38 [==============================] - 10s 267ms/step - loss: 0.0774 - accuracy: 0.9750 - val_loss: 0.1404 - val_accuracy: 0.9545\n",
      "Epoch 20/50\n",
      "38/38 [==============================] - 14s 376ms/step - loss: 0.0978 - accuracy: 0.9675 - val_loss: 0.0674 - val_accuracy: 0.9722\n",
      "Epoch 21/50\n",
      "38/38 [==============================] - 14s 359ms/step - loss: 0.1697 - accuracy: 0.9392 - val_loss: 0.0964 - val_accuracy: 0.9672\n",
      "Epoch 22/50\n",
      "38/38 [==============================] - 11s 296ms/step - loss: 0.0849 - accuracy: 0.9717 - val_loss: 0.3095 - val_accuracy: 0.8838\n",
      "Epoch 23/50\n",
      "38/38 [==============================] - 16s 425ms/step - loss: 0.1664 - accuracy: 0.9317 - val_loss: 0.3439 - val_accuracy: 0.9015\n",
      "Epoch 24/50\n",
      "38/38 [==============================] - 15s 375ms/step - loss: 0.1858 - accuracy: 0.9350 - val_loss: 0.1027 - val_accuracy: 0.9722\n",
      "Epoch 25/50\n",
      "38/38 [==============================] - 14s 352ms/step - loss: 0.0883 - accuracy: 0.9708 - val_loss: 0.1049 - val_accuracy: 0.9672\n",
      "Epoch 26/50\n",
      "38/38 [==============================] - 11s 273ms/step - loss: 0.0630 - accuracy: 0.9775 - val_loss: 0.0738 - val_accuracy: 0.9722\n",
      "Epoch 27/50\n",
      "38/38 [==============================] - 12s 324ms/step - loss: 0.0804 - accuracy: 0.9767 - val_loss: 0.0742 - val_accuracy: 0.9747\n",
      "Epoch 28/50\n",
      "38/38 [==============================] - 10s 263ms/step - loss: 0.0949 - accuracy: 0.9658 - val_loss: 0.1857 - val_accuracy: 0.9217\n",
      "Epoch 29/50\n",
      "38/38 [==============================] - 12s 322ms/step - loss: 0.0848 - accuracy: 0.9700 - val_loss: 0.1146 - val_accuracy: 0.9495\n",
      "Epoch 30/50\n",
      "38/38 [==============================] - 14s 378ms/step - loss: 0.0583 - accuracy: 0.9833 - val_loss: 0.0517 - val_accuracy: 0.9823\n",
      "Epoch 31/50\n",
      "38/38 [==============================] - 12s 302ms/step - loss: 0.0646 - accuracy: 0.9725 - val_loss: 0.1033 - val_accuracy: 0.9596\n",
      "Epoch 32/50\n",
      "38/38 [==============================] - 13s 342ms/step - loss: 0.0633 - accuracy: 0.9808 - val_loss: 0.0480 - val_accuracy: 0.9823\n",
      "Epoch 33/50\n",
      "38/38 [==============================] - 13s 333ms/step - loss: 0.0486 - accuracy: 0.9833 - val_loss: 0.0667 - val_accuracy: 0.9823\n",
      "Epoch 34/50\n",
      "38/38 [==============================] - 14s 369ms/step - loss: 0.0552 - accuracy: 0.9808 - val_loss: 0.0889 - val_accuracy: 0.9571\n",
      "Epoch 35/50\n",
      "38/38 [==============================] - 13s 333ms/step - loss: 0.0542 - accuracy: 0.9783 - val_loss: 0.0594 - val_accuracy: 0.9747\n",
      "Epoch 36/50\n",
      "38/38 [==============================] - 18s 478ms/step - loss: 0.0484 - accuracy: 0.9800 - val_loss: 0.0745 - val_accuracy: 0.9697\n",
      "Epoch 37/50\n",
      "38/38 [==============================] - 12s 329ms/step - loss: 0.0458 - accuracy: 0.9817 - val_loss: 0.0596 - val_accuracy: 0.9798\n",
      "Epoch 38/50\n",
      "38/38 [==============================] - 8s 207ms/step - loss: 0.0598 - accuracy: 0.9783 - val_loss: 0.0318 - val_accuracy: 0.9848\n",
      "Epoch 39/50\n",
      "38/38 [==============================] - 7s 196ms/step - loss: 0.0381 - accuracy: 0.9858 - val_loss: 0.0903 - val_accuracy: 0.9646\n",
      "Epoch 40/50\n",
      "38/38 [==============================] - 7s 196ms/step - loss: 0.1502 - accuracy: 0.9425 - val_loss: 0.1284 - val_accuracy: 0.9545\n",
      "Epoch 41/50\n",
      "38/38 [==============================] - 8s 202ms/step - loss: 0.1621 - accuracy: 0.9350 - val_loss: 0.1997 - val_accuracy: 0.9318\n",
      "Epoch 42/50\n",
      "38/38 [==============================] - 8s 201ms/step - loss: 0.1242 - accuracy: 0.9550 - val_loss: 0.0438 - val_accuracy: 0.9823\n",
      "Epoch 43/50\n",
      "38/38 [==============================] - 13s 350ms/step - loss: 0.0406 - accuracy: 0.9850 - val_loss: 0.0496 - val_accuracy: 0.9874\n",
      "Epoch 44/50\n",
      "38/38 [==============================] - 23s 611ms/step - loss: 0.0381 - accuracy: 0.9875 - val_loss: 0.0470 - val_accuracy: 0.9874\n",
      "Epoch 45/50\n",
      "38/38 [==============================] - 22s 585ms/step - loss: 0.0373 - accuracy: 0.9875 - val_loss: 0.0867 - val_accuracy: 0.9773\n",
      "Epoch 46/50\n",
      "38/38 [==============================] - 14s 361ms/step - loss: 0.0282 - accuracy: 0.9908 - val_loss: 0.0441 - val_accuracy: 0.9848\n",
      "Epoch 47/50\n",
      "38/38 [==============================] - 14s 369ms/step - loss: 0.0290 - accuracy: 0.9883 - val_loss: 0.0273 - val_accuracy: 0.9924\n",
      "Epoch 48/50\n",
      "38/38 [==============================] - 9s 233ms/step - loss: 0.0249 - accuracy: 0.9917 - val_loss: 0.0379 - val_accuracy: 0.9874\n",
      "Epoch 49/50\n",
      "38/38 [==============================] - 13s 338ms/step - loss: 0.0248 - accuracy: 0.9925 - val_loss: 0.0647 - val_accuracy: 0.9773\n",
      "Epoch 50/50\n",
      "38/38 [==============================] - 16s 429ms/step - loss: 0.0339 - accuracy: 0.9908 - val_loss: 0.0253 - val_accuracy: 0.9924\n"
     ]
    }
   ],
   "source": [
    "hist=cnn.fit(x = training_set, validation_data = test_set, epochs = 50)"
   ]
  },
  {
   "cell_type": "code",
   "execution_count": 10,
   "id": "25ad469c",
   "metadata": {},
   "outputs": [
    {
     "data": {
      "image/png": "[encoded data removed]",
      "text/plain": [
       "<Figure size 432x288 with 1 Axes>"
      ]
     },
     "metadata": {
      "needs_background": "light"
     },
     "output_type": "display_data"
    }
   ],
   "source": [
    "plt.plot(hist.history['accuracy'],color='red')\n",
    "plt.plot(hist.history['val_accuracy'], color='teal')\n",
    "plt.title('model accuracy')\n",
    "plt.ylabel('accuracy')\n",
    "plt.xlabel('epoch')\n",
    "plt.legend(['train', 'test'], loc='upper left')\n",
    "plt.savefig('Model_accuracy3.jpg',dpi=500)\n",
    "plt.show()"
   ]
  },
  {
   "cell_type": "code",
   "execution_count": 11,
   "id": "c949d423",
   "metadata": {},
   "outputs": [
    {
     "data": {
      "image/png": "[encoded data removed]",
      "text/plain": [
       "<Figure size 432x288 with 1 Axes>"
      ]
     },
     "metadata": {
      "needs_background": "light"
     },
     "output_type": "display_data"
    }
   ],
   "source": [
    "plt.plot(hist.history['loss'], color='red')\n",
    "plt.plot(hist.history['val_loss'], color='teal')\n",
    "plt.title('model loss')\n",
    "plt.ylabel('loss')\n",
    "plt.xlabel('epoch')\n",
    "plt.legend(['train', 'test'], loc='upper left')\n",
    "plt.savefig('Model_loss3.jpg',dpi=500)\n",
    "plt.show()"
   ]
  },
  {
   "cell_type": "markdown",
   "id": "fa83cb11",
   "metadata": {},
   "source": [
    "# Image prediction"
   ]
  },
  {
   "cell_type": "code",
   "execution_count": 12,
   "id": "e1208d45",
   "metadata": {},
   "outputs": [],
   "source": [
    "import keras.utils as image\n",
    "import cv2"
   ]
  },
  {
   "cell_type": "code",
   "execution_count": 13,
   "id": "0c1f6ea1",
   "metadata": {},
   "outputs": [],
   "source": [
    "def predict_on_img(folder):\n",
    "    dictionary = {'Dark': 0, 'Green': 1, 'Light': 2, 'Medium': 3}\n",
    "    key_list = list(dictionary.keys())\n",
    "    value_list = list(dictionary.values())\n",
    "    images = []\n",
    "    for filename in os.listdir(folder):\n",
    "        test_image = image.load_img('data/prediction/' + filename, target_size = (64, 64))\n",
    "        test_image = image.img_to_array(test_image)\n",
    "        test_image = np.expand_dims(test_image, axis = 0)\n",
    "        result = cnn.predict(test_image/255.0)\n",
    "        prediction = np.argmax(result, axis = 1)\n",
    "        prediction = int(prediction)\n",
    "        pos = value_list.index(prediction)\n",
    "        \n",
    "        im = cv2.imread(os.path.join(folder,filename))\n",
    "        font = cv2.FONT_HERSHEY_SIMPLEX\n",
    "        cv2.putText(im, key_list[prediction], (10,60), font, 1, (0, 255, 0), 2, cv2.LINE_AA)\n",
    "        cv2.imwrite(filename+'_prediction3.jpg', im)\n",
    "        if im is not None:\n",
    "            images.append(im)"
   ]
  },
  {
   "cell_type": "code",
   "execution_count": 14,
   "id": "44bc31ca",
   "metadata": {
    "scrolled": true
   },
   "outputs": [
    {
     "name": "stdout",
     "output_type": "stream",
     "text": [
      "1/1 [==============================] - 0s 115ms/step\n",
      "1/1 [==============================] - 0s 23ms/step\n",
      "1/1 [==============================] - 0s 41ms/step\n",
      "1/1 [==============================] - 0s 25ms/step\n",
      "1/1 [==============================] - 0s 23ms/step\n",
      "1/1 [==============================] - 0s 22ms/step\n",
      "1/1 [==============================] - 0s 23ms/step\n"
     ]
    }
   ],
   "source": [
    "predict_on_img('data/prediction')"
   ]
  },
  {
   "cell_type": "markdown",
   "id": "601ffee2",
   "metadata": {},
   "source": [
    "# Confussion matrix"
   ]
  },
  {
   "cell_type": "code",
   "execution_count": 15,
   "id": "8ef79b95",
   "metadata": {},
   "outputs": [
    {
     "name": "stdout",
     "output_type": "stream",
     "text": [
      "13/13 [==============================] - 1s 82ms/step\n"
     ]
    }
   ],
   "source": [
    "predictions = cnn.predict(test_set)\n",
    "predictions = np.argmax(predictions, axis = 1)"
   ]
  },
  {
   "cell_type": "code",
   "execution_count": 16,
   "id": "f58e6676",
   "metadata": {},
   "outputs": [
    {
     "data": {
      "text/plain": [
       "array([0, 0, 0, 0, 0, 0, 0, 0, 0, 0, 0, 0, 0, 0, 0, 0, 0, 0, 0, 0, 0, 0,\n",
       "       0, 0, 0, 0, 0, 0, 0, 0, 0, 0, 0, 0, 0, 0, 0, 0, 0, 0, 0, 0, 0, 0,\n",
       "       0, 0, 0, 0, 0, 0, 0, 0, 0, 0, 0, 0, 0, 0, 0, 0, 0, 0, 0, 0, 0, 0,\n",
       "       0, 0, 0, 0, 0, 0, 0, 0, 0, 0, 0, 0, 0, 0, 0, 0, 0, 0, 0, 0, 0, 0,\n",
       "       0, 0, 0, 0, 0, 0, 0, 0, 0, 0, 0, 1, 1, 1, 1, 1, 1, 1, 1, 1, 1, 1,\n",
       "       1, 1, 1, 1, 1, 1, 1, 1, 1, 1, 1, 1, 1, 1, 1, 1, 1, 1, 1, 1, 1, 1,\n",
       "       1, 1, 1, 1, 1, 1, 1, 1, 1, 1, 1, 1, 1, 1, 1, 1, 1, 1, 1, 1, 1, 1,\n",
       "       1, 1, 1, 1, 1, 1, 1, 1, 1, 1, 1, 1, 1, 1, 1, 1, 1, 1, 1, 1, 1, 1,\n",
       "       1, 1, 1, 1, 1, 1, 1, 1, 1, 1, 1, 1, 1, 1, 1, 1, 1, 1, 1, 1, 1, 1,\n",
       "       2, 2, 2, 2, 2, 3, 2, 2, 2, 2, 2, 2, 2, 2, 2, 2, 2, 2, 2, 2, 2, 2,\n",
       "       2, 2, 2, 2, 2, 2, 2, 2, 2, 2, 2, 2, 2, 2, 2, 2, 2, 2, 2, 2, 2, 2,\n",
       "       2, 2, 2, 2, 2, 2, 2, 2, 2, 2, 2, 2, 2, 2, 2, 2, 2, 2, 2, 2, 2, 2,\n",
       "       2, 2, 2, 2, 2, 2, 2, 2, 2, 2, 2, 2, 2, 2, 2, 2, 2, 2, 2, 2, 2, 2,\n",
       "       2, 2, 2, 2, 2, 2, 2, 2, 2, 2, 2, 3, 3, 3, 0, 3, 3, 3, 3, 3, 3, 3,\n",
       "       3, 3, 3, 3, 3, 3, 3, 3, 3, 3, 3, 3, 3, 3, 3, 3, 3, 3, 3, 3, 3, 3,\n",
       "       3, 3, 3, 3, 3, 3, 3, 3, 3, 3, 3, 3, 3, 3, 3, 3, 3, 3, 3, 3, 3, 0,\n",
       "       3, 3, 3, 3, 3, 3, 3, 3, 3, 3, 3, 3, 3, 3, 3, 3, 3, 3, 3, 3, 3, 3,\n",
       "       3, 3, 3, 3, 3, 3, 3, 3, 3, 3, 3, 3, 3, 3, 3, 3, 3, 3, 3, 3, 3, 3],\n",
       "      dtype=int64)"
      ]
     },
     "execution_count": 16,
     "metadata": {},
     "output_type": "execute_result"
    }
   ],
   "source": [
    "predictions"
   ]
  },
  {
   "cell_type": "code",
   "execution_count": 17,
   "id": "6487edcc",
   "metadata": {},
   "outputs": [
    {
     "name": "stdout",
     "output_type": "stream",
     "text": [
      "13/13 [==============================] - 1s 80ms/step - loss: 0.0253 - accuracy: 0.9924\n"
     ]
    }
   ],
   "source": [
    "results_validation =cnn.evaluate(test_set, batch_size=32)"
   ]
  },
  {
   "cell_type": "code",
   "execution_count": 18,
   "id": "22d27c23",
   "metadata": {},
   "outputs": [
    {
     "name": "stdout",
     "output_type": "stream",
     "text": [
      "test loss, test acc: [0.025280453264713287, 0.9924242496490479]\n"
     ]
    }
   ],
   "source": [
    "print(\"test loss, test acc:\", results_validation)"
   ]
  },
  {
   "cell_type": "code",
   "execution_count": 19,
   "id": "4c3ceeaf",
   "metadata": {},
   "outputs": [
    {
     "data": {
      "text/plain": [
       "0.9924242424242424"
      ]
     },
     "execution_count": 19,
     "metadata": {},
     "output_type": "execute_result"
    }
   ],
   "source": [
    "from sklearn.metrics import accuracy_score\n",
    "accuracy_score(test_set.classes, predictions)"
   ]
  },
  {
   "cell_type": "code",
   "execution_count": 20,
   "id": "401dfa6f",
   "metadata": {},
   "outputs": [
    {
     "data": {
      "text/plain": [
       "array([[99,  0,  0,  0],\n",
       "       [ 0, 99,  0,  0],\n",
       "       [ 0,  0, 98,  1],\n",
       "       [ 2,  0,  0, 97]], dtype=int64)"
      ]
     },
     "execution_count": 20,
     "metadata": {},
     "output_type": "execute_result"
    }
   ],
   "source": [
    "from sklearn.metrics import confusion_matrix\n",
    "cm = confusion_matrix(test_set.classes, predictions)\n",
    "cm"
   ]
  },
  {
   "cell_type": "code",
   "execution_count": 21,
   "id": "110b057b",
   "metadata": {},
   "outputs": [
    {
     "data": {
      "image/png": "[encoded data removed]",
      "text/plain": [
       "<Figure size 432x288 with 2 Axes>"
      ]
     },
     "metadata": {
      "needs_background": "light"
     },
     "output_type": "display_data"
    }
   ],
   "source": [
    "import seaborn as sns\n",
    "sns.heatmap(cm, annot=True,cmap='PuBu');"
   ]
  },
  {
   "cell_type": "code",
   "execution_count": 22,
   "id": "281d80e4",
   "metadata": {},
   "outputs": [
    {
     "name": "stdout",
     "output_type": "stream",
     "text": [
      "              precision    recall  f1-score   support\n",
      "\n",
      "           0       0.98      1.00      0.99        99\n",
      "           1       1.00      1.00      1.00        99\n",
      "           2       1.00      0.99      0.99        99\n",
      "           3       0.99      0.98      0.98        99\n",
      "\n",
      "    accuracy                           0.99       396\n",
      "   macro avg       0.99      0.99      0.99       396\n",
      "weighted avg       0.99      0.99      0.99       396\n",
      "\n"
     ]
    }
   ],
   "source": [
    "from sklearn.metrics import classification_report\n",
    "print(classification_report(test_set.classes, predictions))"
   ]
  },
  {
   "cell_type": "markdown",
   "id": "ba9f47da",
   "metadata": {},
   "source": [
    "# Model saving"
   ]
  },
  {
   "cell_type": "code",
   "execution_count": 23,
   "id": "36c8b46a",
   "metadata": {},
   "outputs": [],
   "source": [
    "model_json = cnn.to_json()\n",
    "with open('cnn3.json','w') as json_file:\n",
    "    json_file.write(model_json)"
   ]
  },
  {
   "cell_type": "code",
   "execution_count": 24,
   "id": "366a6d70",
   "metadata": {},
   "outputs": [],
   "source": [
    "from keras.models import save_model\n",
    "network_saved = save_model(cnn, 'weights3.hdf5')"
   ]
  },
  {
   "cell_type": "markdown",
   "id": "224d9776",
   "metadata": {},
   "source": [
    "# Model loading"
   ]
  },
  {
   "cell_type": "code",
   "execution_count": null,
   "id": "1ed745ed",
   "metadata": {},
   "outputs": [],
   "source": [
    "with open('cnn2.json', 'r') as json_file:\n",
    "    json_saved_model = json_file.read()\n",
    "    json_saved_model"
   ]
  },
  {
   "cell_type": "code",
   "execution_count": null,
   "id": "07837a17",
   "metadata": {},
   "outputs": [],
   "source": [
    "network_loaded = tf.keras.models.model_from_json(json_saved_model)\n",
    "network_loaded.load_weights('weights2.hdf5')\n",
    "network_loaded.compile(loss = 'categorical_crossentropy', optimizer='Adam', metrics=['accuracy'])\n",
    "network_loaded.summary()"
   ]
  },
  {
   "cell_type": "code",
   "execution_count": null,
   "id": "f7e1ed09",
   "metadata": {},
   "outputs": [],
   "source": []
  }
 ],
 "metadata": {
  "kernelspec": {
   "display_name": "Python 3",
   "language": "python",
   "name": "python3"
  },
  "language_info": {
   "codemirror_mode": {
    "name": "ipython",
    "version": 3
   },
   "file_extension": ".py",
   "mimetype": "text/x-python",
   "name": "python",
   "nbconvert_exporter": "python",
   "pygments_lexer": "ipython3",
   "version": "3.8.8"
  }
 },
 "nbformat": 4,
 "nbformat_minor": 5
}
