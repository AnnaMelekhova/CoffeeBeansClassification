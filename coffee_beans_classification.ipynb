{
 "cells": [
  {
   "cell_type": "code",
   "execution_count": 1,
   "id": "bfe5c5aa",
   "metadata": {},
   "outputs": [
    {
     "data": {
      "text/plain": [
       "'2.10.0'"
      ]
     },
     "execution_count": 1,
     "metadata": {},
     "output_type": "execute_result"
    }
   ],
   "source": [
    "import os\n",
    "os.environ['KMP_DUPLICATE_LIB_OK']='True'\n",
    "import tensorflow as tf\n",
    "import numpy as np\n",
    "import matplotlib.pyplot as plt\n",
    "from keras.preprocessing.image import ImageDataGenerator\n",
    "tf.__version__"
   ]
  },
  {
   "cell_type": "markdown",
   "id": "7b4c35e8",
   "metadata": {},
   "source": [
    "# Traning and testing sets preparation"
   ]
  },
  {
   "cell_type": "code",
   "execution_count": 2,
   "id": "8e85dcec",
   "metadata": {},
   "outputs": [],
   "source": [
    "train_datagen = ImageDataGenerator(rescale = 1./255,\n",
    "                                   shear_range = 0.2,\n",
    "                                   zoom_range = 0.2,\n",
    "                                   horizontal_flip = True)"
   ]
  },
  {
   "cell_type": "code",
   "execution_count": 3,
   "id": "8fa73067",
   "metadata": {},
   "outputs": [
    {
     "name": "stdout",
     "output_type": "stream",
     "text": [
      "Found 1200 images belonging to 4 classes.\n"
     ]
    }
   ],
   "source": [
    "training_set = train_datagen.flow_from_directory('data/train',\n",
    "                                                 target_size = (64, 64),\n",
    "                                                 batch_size = 32,\n",
    "                                                 shuffle=False,\n",
    "                                                 class_mode = 'categorical')"
   ]
  },
  {
   "cell_type": "code",
   "execution_count": 4,
   "id": "95cbaba5",
   "metadata": {},
   "outputs": [
    {
     "name": "stdout",
     "output_type": "stream",
     "text": [
      "Found 396 images belonging to 4 classes.\n"
     ]
    }
   ],
   "source": [
    "test_datagen = ImageDataGenerator(rescale = 1./255)\n",
    "test_set = test_datagen.flow_from_directory('data/test', \n",
    "                                            target_size = (64, 64),\n",
    "                                            batch_size = 32,\n",
    "                                            shuffle=False,\n",
    "                                            class_mode = 'categorical')"
   ]
  },
  {
   "cell_type": "markdown",
   "id": "207e62f3",
   "metadata": {},
   "source": [
    "# Model creation"
   ]
  },
  {
   "cell_type": "code",
   "execution_count": 5,
   "id": "3ff6c45f",
   "metadata": {},
   "outputs": [],
   "source": [
    "cnn = tf.keras.models.Sequential()"
   ]
  },
  {
   "cell_type": "code",
   "execution_count": 6,
   "id": "b4e33044",
   "metadata": {},
   "outputs": [],
   "source": [
    "cnn.add(tf.keras.layers.MaxPool2D(pool_size=2, strides=2))"
   ]
  },
  {
   "cell_type": "code",
   "execution_count": 7,
   "id": "eb4d3b3c",
   "metadata": {},
   "outputs": [],
   "source": [
    "cnn.add(tf.keras.layers.Conv2D(filters=32, kernel_size=3, activation='relu'))"
   ]
  },
  {
   "cell_type": "code",
   "execution_count": 8,
   "id": "753c270c",
   "metadata": {},
   "outputs": [],
   "source": [
    "cnn.add(tf.keras.layers.MaxPool2D(pool_size=2, strides=2))"
   ]
  },
  {
   "cell_type": "code",
   "execution_count": 9,
   "id": "b78e4ac1",
   "metadata": {},
   "outputs": [],
   "source": [
    "cnn.add(tf.keras.layers.Flatten())"
   ]
  },
  {
   "cell_type": "code",
   "execution_count": 10,
   "id": "c85d6b42",
   "metadata": {},
   "outputs": [],
   "source": [
    "cnn.add(tf.keras.layers.Dense(units=128, activation='relu'))"
   ]
  },
  {
   "cell_type": "code",
   "execution_count": 11,
   "id": "20c05760",
   "metadata": {},
   "outputs": [],
   "source": [
    "cnn.add(tf.keras.layers.Dense(units=4, activation='softmax'))"
   ]
  },
  {
   "cell_type": "code",
   "execution_count": 12,
   "id": "93088cb3",
   "metadata": {},
   "outputs": [],
   "source": [
    "cnn.compile(optimizer = 'adam', loss = 'categorical_crossentropy', metrics = ['accuracy'])"
   ]
  },
  {
   "cell_type": "markdown",
   "id": "31fb4d09",
   "metadata": {},
   "source": [
    "# Indexes and predictions"
   ]
  },
  {
   "cell_type": "code",
   "execution_count": 13,
   "id": "99347d3b",
   "metadata": {},
   "outputs": [
    {
     "data": {
      "text/plain": [
       "{'Dark': 0, 'Green': 1, 'Light': 2, 'Medium': 3}"
      ]
     },
     "execution_count": 13,
     "metadata": {},
     "output_type": "execute_result"
    }
   ],
   "source": [
    "test_set.class_indices"
   ]
  },
  {
   "cell_type": "code",
   "execution_count": 14,
   "id": "5b2c1b15",
   "metadata": {},
   "outputs": [
    {
     "name": "stdout",
     "output_type": "stream",
     "text": [
      "13/13 [==============================] - 1s 79ms/step\n"
     ]
    }
   ],
   "source": [
    "predictions = cnn.predict(test_set)"
   ]
  },
  {
   "cell_type": "code",
   "execution_count": 15,
   "id": "13173dd0",
   "metadata": {
    "scrolled": true
   },
   "outputs": [
    {
     "data": {
      "text/plain": [
       "array([[0.26950338, 0.37540534, 0.17048256, 0.18460873],\n",
       "       [0.28784946, 0.33695388, 0.18930522, 0.1858915 ],\n",
       "       [0.3053273 , 0.32991475, 0.17163284, 0.19312511],\n",
       "       ...,\n",
       "       [0.29723397, 0.33186188, 0.18227795, 0.18862619],\n",
       "       [0.29505175, 0.3313673 , 0.17555703, 0.19802392],\n",
       "       [0.2872786 , 0.35518417, 0.16461478, 0.19292252]], dtype=float32)"
      ]
     },
     "execution_count": 15,
     "metadata": {},
     "output_type": "execute_result"
    }
   ],
   "source": [
    "predictions"
   ]
  },
  {
   "cell_type": "code",
   "execution_count": 16,
   "id": "b47cda22",
   "metadata": {},
   "outputs": [],
   "source": [
    "predictions = np.argmax(predictions, axis = 1)"
   ]
  },
  {
   "cell_type": "code",
   "execution_count": 17,
   "id": "2b97169e",
   "metadata": {},
   "outputs": [
    {
     "data": {
      "text/plain": [
       "array([1, 1, 1, 1, 1, 1, 1, 1, 0, 1, 0, 1, 1, 1, 1, 1, 0, 1, 1, 1, 1, 1,\n",
       "       1, 1, 1, 0, 1, 1, 1, 1, 1, 1, 1, 1, 1, 1, 1, 1, 0, 0, 1, 1, 1, 1,\n",
       "       1, 1, 1, 1, 1, 1, 1, 1, 1, 1, 1, 1, 1, 1, 1, 1, 0, 1, 1, 1, 1, 1,\n",
       "       1, 1, 1, 1, 1, 1, 1, 1, 1, 1, 1, 1, 1, 1, 1, 1, 1, 0, 1, 1, 1, 0,\n",
       "       1, 1, 1, 1, 0, 0, 1, 1, 1, 1, 1, 1, 1, 1, 1, 1, 1, 1, 1, 1, 1, 1,\n",
       "       1, 1, 1, 1, 1, 1, 1, 1, 1, 1, 1, 1, 1, 1, 1, 1, 1, 1, 1, 1, 1, 1,\n",
       "       1, 1, 1, 1, 1, 1, 1, 1, 1, 1, 0, 1, 1, 1, 1, 1, 1, 1, 1, 1, 1, 1,\n",
       "       1, 1, 1, 1, 1, 1, 1, 1, 1, 1, 1, 1, 1, 1, 1, 1, 1, 1, 1, 1, 1, 1,\n",
       "       1, 1, 1, 1, 1, 0, 1, 1, 1, 1, 1, 1, 1, 1, 1, 1, 1, 1, 1, 1, 0, 1,\n",
       "       1, 1, 1, 1, 1, 0, 1, 1, 1, 1, 1, 1, 1, 1, 1, 1, 1, 1, 1, 1, 1, 1,\n",
       "       1, 1, 1, 1, 1, 1, 1, 1, 1, 1, 1, 1, 0, 1, 1, 1, 1, 1, 0, 1, 1, 1,\n",
       "       1, 1, 1, 1, 1, 1, 1, 1, 1, 1, 1, 1, 1, 1, 1, 1, 1, 1, 1, 1, 1, 1,\n",
       "       1, 1, 1, 1, 1, 1, 1, 1, 1, 1, 1, 0, 1, 1, 1, 1, 1, 1, 1, 1, 1, 1,\n",
       "       1, 1, 1, 1, 1, 1, 1, 1, 1, 0, 0, 1, 1, 1, 1, 1, 1, 1, 0, 1, 1, 1,\n",
       "       1, 1, 1, 1, 1, 1, 1, 1, 1, 1, 1, 1, 1, 1, 1, 1, 1, 1, 1, 0, 1, 1,\n",
       "       1, 1, 1, 1, 0, 1, 1, 1, 1, 1, 1, 1, 1, 1, 1, 1, 1, 1, 1, 0, 0, 1,\n",
       "       1, 1, 1, 1, 1, 1, 1, 1, 1, 1, 1, 1, 1, 1, 1, 1, 1, 1, 1, 0, 1, 1,\n",
       "       1, 1, 1, 1, 0, 1, 1, 1, 1, 1, 1, 1, 1, 1, 1, 0, 1, 1, 1, 1, 1, 1],\n",
       "      dtype=int64)"
      ]
     },
     "execution_count": 17,
     "metadata": {},
     "output_type": "execute_result"
    }
   ],
   "source": [
    "predictions"
   ]
  },
  {
   "cell_type": "code",
   "execution_count": 18,
   "id": "d1114e90",
   "metadata": {},
   "outputs": [
    {
     "name": "stdout",
     "output_type": "stream",
     "text": [
      "Model: \"sequential\"\n",
      "_________________________________________________________________\n",
      " Layer (type)                Output Shape              Param #   \n",
      "=================================================================\n",
      " max_pooling2d (MaxPooling2D  (None, None, None, None)  0        \n",
      " )                                                               \n",
      "                                                                 \n",
      " conv2d (Conv2D)             (None, None, None, 32)    896       \n",
      "                                                                 \n",
      " max_pooling2d_1 (MaxPooling  (None, None, None, 32)   0         \n",
      " 2D)                                                             \n",
      "                                                                 \n",
      " flatten (Flatten)           (None, None)              0         \n",
      "                                                                 \n",
      " dense (Dense)               (None, 128)               921728    \n",
      "                                                                 \n",
      " dense_1 (Dense)             (None, 4)                 516       \n",
      "                                                                 \n",
      "=================================================================\n",
      "Total params: 923,140\n",
      "Trainable params: 923,140\n",
      "Non-trainable params: 0\n",
      "_________________________________________________________________\n"
     ]
    }
   ],
   "source": [
    "cnn.summary()"
   ]
  },
  {
   "cell_type": "markdown",
   "id": "e4b8003d",
   "metadata": {},
   "source": [
    "# The training process"
   ]
  },
  {
   "cell_type": "code",
   "execution_count": 19,
   "id": "71acf0fd",
   "metadata": {},
   "outputs": [
    {
     "name": "stdout",
     "output_type": "stream",
     "text": [
      "Epoch 1/20\n",
      "38/38 [==============================] - 7s 179ms/step - loss: 1.7841 - accuracy: 0.2767 - val_loss: 1.3431 - val_accuracy: 0.3864\n",
      "Epoch 2/20\n",
      "38/38 [==============================] - 6s 147ms/step - loss: 1.3569 - accuracy: 0.3200 - val_loss: 1.2651 - val_accuracy: 0.2551\n",
      "Epoch 3/20\n",
      "38/38 [==============================] - 6s 147ms/step - loss: 1.2071 - accuracy: 0.4450 - val_loss: 1.1012 - val_accuracy: 0.6237\n",
      "Epoch 4/20\n",
      "38/38 [==============================] - 6s 148ms/step - loss: 1.1439 - accuracy: 0.4092 - val_loss: 1.2325 - val_accuracy: 0.2626\n",
      "Epoch 5/20\n",
      "38/38 [==============================] - 7s 175ms/step - loss: 1.0292 - accuracy: 0.4833 - val_loss: 1.0510 - val_accuracy: 0.5480\n",
      "Epoch 6/20\n",
      "38/38 [==============================] - 6s 144ms/step - loss: 1.0562 - accuracy: 0.4675 - val_loss: 0.8604 - val_accuracy: 0.7323\n",
      "Epoch 7/20\n",
      "38/38 [==============================] - 5s 142ms/step - loss: 0.9359 - accuracy: 0.5492 - val_loss: 0.7731 - val_accuracy: 0.7348\n",
      "Epoch 8/20\n",
      "38/38 [==============================] - 5s 144ms/step - loss: 0.8485 - accuracy: 0.6133 - val_loss: 0.7067 - val_accuracy: 0.8056\n",
      "Epoch 9/20\n",
      "38/38 [==============================] - 6s 153ms/step - loss: 0.7861 - accuracy: 0.6417 - val_loss: 0.9917 - val_accuracy: 0.5152\n",
      "Epoch 10/20\n",
      "38/38 [==============================] - 6s 155ms/step - loss: 0.7800 - accuracy: 0.6483 - val_loss: 0.7162 - val_accuracy: 0.6566\n",
      "Epoch 11/20\n",
      "38/38 [==============================] - 6s 158ms/step - loss: 0.6605 - accuracy: 0.7508 - val_loss: 0.7465 - val_accuracy: 0.5783\n",
      "Epoch 12/20\n",
      "38/38 [==============================] - 6s 162ms/step - loss: 0.6340 - accuracy: 0.7092 - val_loss: 0.5791 - val_accuracy: 0.8056\n",
      "Epoch 13/20\n",
      "38/38 [==============================] - 7s 194ms/step - loss: 0.6097 - accuracy: 0.7158 - val_loss: 0.6491 - val_accuracy: 0.6641\n",
      "Epoch 14/20\n",
      "38/38 [==============================] - 6s 159ms/step - loss: 0.5547 - accuracy: 0.8083 - val_loss: 0.5187 - val_accuracy: 0.7626\n",
      "Epoch 15/20\n",
      "38/38 [==============================] - 7s 175ms/step - loss: 0.5690 - accuracy: 0.7817 - val_loss: 0.6501 - val_accuracy: 0.6995\n",
      "Epoch 16/20\n",
      "38/38 [==============================] - 7s 189ms/step - loss: 0.4950 - accuracy: 0.8425 - val_loss: 0.3695 - val_accuracy: 0.9242\n",
      "Epoch 17/20\n",
      "38/38 [==============================] - 7s 190ms/step - loss: 0.4148 - accuracy: 0.8867 - val_loss: 0.3295 - val_accuracy: 0.9242\n",
      "Epoch 18/20\n",
      "38/38 [==============================] - 15s 392ms/step - loss: 0.3630 - accuracy: 0.8825 - val_loss: 0.3017 - val_accuracy: 0.9116\n",
      "Epoch 19/20\n",
      "38/38 [==============================] - 13s 334ms/step - loss: 0.3478 - accuracy: 0.8858 - val_loss: 0.4862 - val_accuracy: 0.7854\n",
      "Epoch 20/20\n",
      "38/38 [==============================] - 7s 182ms/step - loss: 0.4626 - accuracy: 0.8083 - val_loss: 0.2855 - val_accuracy: 0.9495\n"
     ]
    }
   ],
   "source": [
    "hist=cnn.fit(x = training_set, validation_data = test_set, epochs = 20)"
   ]
  },
  {
   "cell_type": "code",
   "execution_count": 20,
   "id": "6c8bf714",
   "metadata": {},
   "outputs": [
    {
     "data": {
      "image/png": "[encoded data removed]",
      "text/plain": [
       "<Figure size 432x288 with 1 Axes>"
      ]
     },
     "metadata": {
      "needs_background": "light"
     },
     "output_type": "display_data"
    }
   ],
   "source": [
    "plt.plot(hist.history['accuracy'])\n",
    "plt.plot(hist.history['val_accuracy'])\n",
    "plt.title('model accuracy')\n",
    "plt.ylabel('accuracy')\n",
    "plt.xlabel('epoch')\n",
    "plt.legend(['train', 'test'], loc='upper left')\n",
    "plt.savefig('Model_accuracy.jpg',dpi=500)\n",
    "plt.show()"
   ]
  },
  {
   "cell_type": "code",
   "execution_count": 21,
   "id": "b3ef9e25",
   "metadata": {},
   "outputs": [
    {
     "data": {
      "image/png": "[encoded data removed]",
      "text/plain": [
       "<Figure size 432x288 with 1 Axes>"
      ]
     },
     "metadata": {
      "needs_background": "light"
     },
     "output_type": "display_data"
    }
   ],
   "source": [
    "plt.plot(hist.history['loss'])\n",
    "plt.plot(hist.history['val_loss'])\n",
    "plt.title('model loss')\n",
    "plt.ylabel('loss')\n",
    "plt.xlabel('epoch')\n",
    "plt.legend(['train', 'test'], loc='upper left')\n",
    "plt.savefig('Model_loss.jpg',dpi=500)\n",
    "plt.show()"
   ]
  },
  {
   "cell_type": "markdown",
   "id": "9b6fda47",
   "metadata": {},
   "source": [
    "# Image prediction"
   ]
  },
  {
   "cell_type": "code",
   "execution_count": 22,
   "id": "27f01e79",
   "metadata": {},
   "outputs": [],
   "source": [
    "import keras.utils as image\n",
    "test_image = image.load_img('data/prediction/dark (39).png', target_size = (64, 64))\n",
    "test_image = image.img_to_array(test_image)"
   ]
  },
  {
   "cell_type": "code",
   "execution_count": 23,
   "id": "1d0ee64f",
   "metadata": {},
   "outputs": [
    {
     "name": "stdout",
     "output_type": "stream",
     "text": [
      "1/1 [==============================] - 0s 82ms/step\n"
     ]
    }
   ],
   "source": [
    "test_image = np.expand_dims(test_image, axis = 0)\n",
    "result = cnn.predict(test_image/255.0)"
   ]
  },
  {
   "cell_type": "code",
   "execution_count": 24,
   "id": "55c1a0e4",
   "metadata": {},
   "outputs": [
    {
     "data": {
      "text/plain": [
       "array([[5.9964073e-01, 6.8868045e-05, 3.8551426e-04, 3.9990488e-01]],\n",
       "      dtype=float32)"
      ]
     },
     "execution_count": 24,
     "metadata": {},
     "output_type": "execute_result"
    }
   ],
   "source": [
    "result"
   ]
  },
  {
   "cell_type": "code",
   "execution_count": 25,
   "id": "16efb4ca",
   "metadata": {},
   "outputs": [
    {
     "name": "stdout",
     "output_type": "stream",
     "text": [
      "This bean is Dark\n"
     ]
    }
   ],
   "source": [
    "dictionary = {'Dark': 0, 'Green': 1, 'Light': 2, 'Medium': 3}\n",
    "prediction = np.argmax(result, axis = 1)\n",
    "prediction = int(prediction)\n",
    "key_list = list(dictionary.keys())\n",
    "value_list = list(dictionary.values())\n",
    "pos = value_list.index(prediction)\n",
    "print('This bean is', key_list[prediction])"
   ]
  },
  {
   "cell_type": "code",
   "execution_count": 32,
   "id": "48d03c4d",
   "metadata": {},
   "outputs": [
    {
     "data": {
      "text/plain": [
       "True"
      ]
     },
     "execution_count": 32,
     "metadata": {},
     "output_type": "execute_result"
    }
   ],
   "source": [
    "import cv2\n",
    "im = cv2.imread('data/prediction/dark (39).png', 1)\n",
    "font = cv2.FONT_HERSHEY_SIMPLEX\n",
    "cv2.putText(im, key_list[prediction], (10,60), font, 1, (0, 255, 0), 2, cv2.LINE_AA)\n",
    "cv2.imwrite('prediction_text.jpg', im)"
   ]
  },
  {
   "cell_type": "code",
   "execution_count": null,
   "id": "9533fc70",
   "metadata": {},
   "outputs": [],
   "source": []
  }
 ],
 "metadata": {
  "kernelspec": {
   "display_name": "Python 3",
   "language": "python",
   "name": "python3"
  },
  "language_info": {
   "codemirror_mode": {
    "name": "ipython",
    "version": 3
   },
   "file_extension": ".py",
   "mimetype": "text/x-python",
   "name": "python",
   "nbconvert_exporter": "python",
   "pygments_lexer": "ipython3",
   "version": "3.8.8"
  }
 },
 "nbformat": 4,
 "nbformat_minor": 5
}
