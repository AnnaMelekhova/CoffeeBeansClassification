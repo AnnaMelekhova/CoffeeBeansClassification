{
 "cells": [
  {
   "cell_type": "code",
   "execution_count": 1,
   "id": "3598a290",
   "metadata": {},
   "outputs": [
    {
     "data": {
      "text/plain": [
       "'2.10.0'"
      ]
     },
     "execution_count": 1,
     "metadata": {},
     "output_type": "execute_result"
    }
   ],
   "source": [
    "import os\n",
    "os.environ['KMP_DUPLICATE_LIB_OK']='True'\n",
    "import tensorflow as tf\n",
    "import numpy as np\n",
    "import matplotlib.pyplot as plt\n",
    "from keras.preprocessing.image import ImageDataGenerator\n",
    "tf.__version__"
   ]
  },
  {
   "cell_type": "markdown",
   "id": "ad7b3e9e",
   "metadata": {},
   "source": [
    "# Traning and testing sets preparation"
   ]
  },
  {
   "cell_type": "code",
   "execution_count": 2,
   "id": "1b72d72a",
   "metadata": {},
   "outputs": [],
   "source": [
    "train_datagen = ImageDataGenerator(rescale = 1./255,\n",
    "                                   shear_range = 0.2,\n",
    "                                   zoom_range = 0.2,\n",
    "                                   horizontal_flip = True)"
   ]
  },
  {
   "cell_type": "code",
   "execution_count": 3,
   "id": "af3b1b3a",
   "metadata": {},
   "outputs": [
    {
     "name": "stdout",
     "output_type": "stream",
     "text": [
      "Found 1200 images belonging to 4 classes.\n"
     ]
    }
   ],
   "source": [
    "training_set = train_datagen.flow_from_directory('data/train',\n",
    "                                                 target_size = (64, 64),\n",
    "                                                 batch_size = 32,\n",
    "                                                 shuffle=False,\n",
    "                                                 class_mode = 'categorical')"
   ]
  },
  {
   "cell_type": "code",
   "execution_count": 4,
   "id": "c908d1d3",
   "metadata": {},
   "outputs": [
    {
     "name": "stdout",
     "output_type": "stream",
     "text": [
      "Found 396 images belonging to 4 classes.\n"
     ]
    }
   ],
   "source": [
    "test_datagen = ImageDataGenerator(rescale = 1./255)\n",
    "test_set = test_datagen.flow_from_directory('data/test', \n",
    "                                            target_size = (64, 64),\n",
    "                                            batch_size = 32,\n",
    "                                            shuffle=False,\n",
    "                                            class_mode = 'categorical')"
   ]
  },
  {
   "cell_type": "markdown",
   "id": "1c14bb0a",
   "metadata": {},
   "source": [
    "# Model creation"
   ]
  },
  {
   "cell_type": "code",
   "execution_count": 6,
   "id": "a7487510",
   "metadata": {},
   "outputs": [],
   "source": [
    "cnn = tf.keras.models.Sequential()\n",
    "cnn.add(tf.keras.layers.Conv2D(64, (3, 3), activation='relu', kernel_initializer='he_uniform', padding='same', input_shape=(64, 64, 3)))\n",
    "cnn.add(tf.keras.layers.Conv2D(64, (3, 3), activation='relu', kernel_initializer='he_uniform', padding='same'))\n",
    "cnn.add(tf.keras.layers.MaxPooling2D((2, 2)))\n",
    "cnn.add(tf.keras.layers.Conv2D(32, (3, 3), activation='relu', kernel_initializer='he_uniform', padding='same'))\n",
    "cnn.add(tf.keras.layers.Conv2D(32, (3, 3), activation='relu', kernel_initializer='he_uniform', padding='same'))\n",
    "cnn.add(tf.keras.layers.MaxPooling2D((2, 2)))\n",
    "cnn.add(tf.keras.layers.Conv2D(128, (3, 3), activation='relu', kernel_initializer='he_uniform', padding='same'))\n",
    "cnn.add(tf.keras.layers.Conv2D(128, (3, 3), activation='relu', kernel_initializer='he_uniform', padding='same'))\n",
    "cnn.add(tf.keras.layers.MaxPooling2D((2, 2)))\n",
    "cnn.add(tf.keras.layers.Flatten())\n",
    "cnn.add(tf.keras.layers.Dense(128, activation='relu', kernel_initializer='he_uniform'))\n",
    "cnn.add(tf.keras.layers.Dense(4, activation='softmax'))"
   ]
  },
  {
   "cell_type": "code",
   "execution_count": 7,
   "id": "93088cb3",
   "metadata": {},
   "outputs": [],
   "source": [
    "cnn.compile(optimizer = 'adam', loss = 'categorical_crossentropy', metrics = ['accuracy'])"
   ]
  },
  {
   "cell_type": "code",
   "execution_count": null,
   "id": "5f01e0d2",
   "metadata": {},
   "outputs": [],
   "source": [
    "cnn.summary()"
   ]
  },
  {
   "cell_type": "markdown",
   "id": "d6ff1a18",
   "metadata": {},
   "source": [
    "# The training process"
   ]
  },
  {
   "cell_type": "code",
   "execution_count": 14,
   "id": "1007572a",
   "metadata": {},
   "outputs": [
    {
     "name": "stdout",
     "output_type": "stream",
     "text": [
      "Epoch 1/20\n",
      "38/38 [==============================] - 33s 834ms/step - loss: 5.1469 - accuracy: 0.2025 - val_loss: 1.3850 - val_accuracy: 0.2854\n",
      "Epoch 2/20\n",
      "38/38 [==============================] - 31s 820ms/step - loss: 1.3944 - accuracy: 0.1600 - val_loss: 1.3805 - val_accuracy: 0.2854\n",
      "Epoch 3/20\n",
      "38/38 [==============================] - 31s 825ms/step - loss: 1.3872 - accuracy: 0.3175 - val_loss: 1.3633 - val_accuracy: 0.2551\n",
      "Epoch 4/20\n",
      "38/38 [==============================] - 31s 813ms/step - loss: 1.3810 - accuracy: 0.3367 - val_loss: 2.9098 - val_accuracy: 0.2500\n",
      "Epoch 5/20\n",
      "38/38 [==============================] - 31s 818ms/step - loss: 1.5898 - accuracy: 0.2242 - val_loss: 1.3855 - val_accuracy: 0.2500\n",
      "Epoch 6/20\n",
      "38/38 [==============================] - 31s 819ms/step - loss: 1.4067 - accuracy: 0.3250 - val_loss: 1.3762 - val_accuracy: 0.2500\n",
      "Epoch 7/20\n",
      "38/38 [==============================] - 31s 825ms/step - loss: 1.4042 - accuracy: 0.2142 - val_loss: 1.3631 - val_accuracy: 0.4899\n",
      "Epoch 8/20\n",
      "38/38 [==============================] - 31s 815ms/step - loss: 1.3911 - accuracy: 0.3667 - val_loss: 1.3501 - val_accuracy: 0.4520\n",
      "Epoch 9/20\n",
      "38/38 [==============================] - 35s 916ms/step - loss: 1.3024 - accuracy: 0.4942 - val_loss: 1.3359 - val_accuracy: 0.2500\n",
      "Epoch 10/20\n",
      "38/38 [==============================] - 32s 836ms/step - loss: 1.1569 - accuracy: 0.4583 - val_loss: 0.8965 - val_accuracy: 0.5960\n",
      "Epoch 11/20\n",
      "38/38 [==============================] - 37s 988ms/step - loss: 0.8961 - accuracy: 0.5475 - val_loss: 0.8739 - val_accuracy: 0.5657\n",
      "Epoch 12/20\n",
      "38/38 [==============================] - 40s 1s/step - loss: 1.0243 - accuracy: 0.5542 - val_loss: 0.7354 - val_accuracy: 0.6692\n",
      "Epoch 13/20\n",
      "38/38 [==============================] - 40s 1s/step - loss: 0.8177 - accuracy: 0.5683 - val_loss: 0.6373 - val_accuracy: 0.6869\n",
      "Epoch 14/20\n",
      "38/38 [==============================] - 52s 1s/step - loss: 0.8268 - accuracy: 0.5667 - val_loss: 0.6887 - val_accuracy: 0.6490\n",
      "Epoch 15/20\n",
      "38/38 [==============================] - 49s 1s/step - loss: 0.6860 - accuracy: 0.6192 - val_loss: 0.4888 - val_accuracy: 0.8232\n",
      "Epoch 16/20\n",
      "38/38 [==============================] - 32s 851ms/step - loss: 0.5187 - accuracy: 0.7917 - val_loss: 0.3159 - val_accuracy: 0.8889\n",
      "Epoch 17/20\n",
      "38/38 [==============================] - 31s 822ms/step - loss: 0.4545 - accuracy: 0.7917 - val_loss: 0.4148 - val_accuracy: 0.7879\n",
      "Epoch 18/20\n",
      "38/38 [==============================] - 43s 1s/step - loss: 0.4997 - accuracy: 0.8125 - val_loss: 0.2491 - val_accuracy: 0.9343\n",
      "Epoch 19/20\n",
      "38/38 [==============================] - 52s 1s/step - loss: 0.2997 - accuracy: 0.8983 - val_loss: 0.3287 - val_accuracy: 0.8914\n",
      "Epoch 20/20\n",
      "38/38 [==============================] - 52s 1s/step - loss: 0.2936 - accuracy: 0.9000 - val_loss: 0.2264 - val_accuracy: 0.9167\n"
     ]
    }
   ],
   "source": [
    "hist=cnn.fit(x = training_set, validation_data = test_set, epochs = 20)"
   ]
  },
  {
   "cell_type": "code",
   "execution_count": 15,
   "id": "a26a2488",
   "metadata": {},
   "outputs": [
    {
     "data": {
      "image/png": "[encoded data removed]",
      "text/plain": [
       "<Figure size 432x288 with 1 Axes>"
      ]
     },
     "metadata": {
      "needs_background": "light"
     },
     "output_type": "display_data"
    }
   ],
   "source": [
    "plt.plot(hist.history['accuracy'])\n",
    "plt.plot(hist.history['val_accuracy'])\n",
    "plt.title('model accuracy')\n",
    "plt.ylabel('accuracy')\n",
    "plt.xlabel('epoch')\n",
    "plt.legend(['train', 'test'], loc='upper left')\n",
    "plt.savefig('Model_accuracy.jpg',dpi=500)\n",
    "plt.show()"
   ]
  },
  {
   "cell_type": "code",
   "execution_count": 16,
   "id": "4f7da4a3",
   "metadata": {},
   "outputs": [
    {
     "data": {
      "image/png": "[encoded data removed]",
      "text/plain": [
       "<Figure size 432x288 with 1 Axes>"
      ]
     },
     "metadata": {
      "needs_background": "light"
     },
     "output_type": "display_data"
    }
   ],
   "source": [
    "plt.plot(hist.history['loss'])\n",
    "plt.plot(hist.history['val_loss'])\n",
    "plt.title('model loss')\n",
    "plt.ylabel('loss')\n",
    "plt.xlabel('epoch')\n",
    "plt.legend(['train', 'test'], loc='upper left')\n",
    "plt.savefig('Model_loss.jpg',dpi=500)\n",
    "plt.show()"
   ]
  },
  {
   "cell_type": "markdown",
   "id": "85f7d881",
   "metadata": {},
   "source": [
    "# Image prediction"
   ]
  },
  {
   "cell_type": "code",
   "execution_count": 17,
   "id": "93080bf4",
   "metadata": {},
   "outputs": [],
   "source": [
    "import keras.utils as image\n",
    "test_image = image.load_img('data/prediction/green (15).png', target_size = (64, 64))\n",
    "test_image = image.img_to_array(test_image)"
   ]
  },
  {
   "cell_type": "code",
   "execution_count": 18,
   "id": "591ebd76",
   "metadata": {},
   "outputs": [
    {
     "name": "stdout",
     "output_type": "stream",
     "text": [
      "1/1 [==============================] - 0s 127ms/step\n"
     ]
    }
   ],
   "source": [
    "test_image = np.expand_dims(test_image, axis = 0)\n",
    "result = cnn.predict(test_image/255.0)"
   ]
  },
  {
   "cell_type": "code",
   "execution_count": 19,
   "id": "2713a06a",
   "metadata": {},
   "outputs": [
    {
     "data": {
      "text/plain": [
       "array([[4.6926452e-06, 9.5370078e-01, 4.0805675e-02, 5.4888935e-03]],\n",
       "      dtype=float32)"
      ]
     },
     "execution_count": 19,
     "metadata": {},
     "output_type": "execute_result"
    }
   ],
   "source": [
    "result"
   ]
  },
  {
   "cell_type": "code",
   "execution_count": 20,
   "id": "24d0468b",
   "metadata": {},
   "outputs": [
    {
     "name": "stdout",
     "output_type": "stream",
     "text": [
      "This bean is Green\n"
     ]
    }
   ],
   "source": [
    "dictionary = {'Dark': 0, 'Green': 1, 'Light': 2, 'Medium': 3}\n",
    "prediction = np.argmax(result, axis = 1)\n",
    "prediction = int(prediction)\n",
    "key_list = list(dictionary.keys())\n",
    "value_list = list(dictionary.values())\n",
    "pos = value_list.index(prediction)\n",
    "print('This bean is', key_list[prediction])"
   ]
  },
  {
   "cell_type": "code",
   "execution_count": 21,
   "id": "95bf766d",
   "metadata": {},
   "outputs": [
    {
     "data": {
      "text/plain": [
       "True"
      ]
     },
     "execution_count": 21,
     "metadata": {},
     "output_type": "execute_result"
    }
   ],
   "source": [
    "import cv2\n",
    "im = cv2.imread('data/prediction/green (15).png', 1)\n",
    "font = cv2.FONT_HERSHEY_SIMPLEX\n",
    "cv2.putText(im, key_list[prediction], (10,60), font, 1, (0, 255, 0), 2, cv2.LINE_AA)\n",
    "cv2.imwrite('prediction_text.jpg', im)"
   ]
  },
  {
   "cell_type": "markdown",
   "id": "6f07114a",
   "metadata": {},
   "source": [
    "# Confussion matrix"
   ]
  },
  {
   "cell_type": "code",
   "execution_count": 27,
   "id": "e2e058a7",
   "metadata": {},
   "outputs": [
    {
     "name": "stdout",
     "output_type": "stream",
     "text": [
      "13/13 [==============================] - 3s 197ms/step\n"
     ]
    }
   ],
   "source": [
    "predictions = cnn.predict(test_set)\n",
    "predictions = np.argmax(predictions, axis = 1)"
   ]
  },
  {
   "cell_type": "code",
   "execution_count": 28,
   "id": "a4b2b4a0",
   "metadata": {},
   "outputs": [
    {
     "data": {
      "text/plain": [
       "array([0, 0, 0, 0, 0, 0, 0, 0, 0, 0, 0, 0, 0, 0, 0, 0, 0, 0, 0, 0, 0, 0,\n",
       "       0, 0, 0, 0, 0, 0, 0, 0, 0, 0, 0, 0, 0, 0, 0, 0, 0, 0, 0, 0, 0, 0,\n",
       "       0, 0, 0, 0, 0, 0, 0, 0, 0, 0, 0, 0, 0, 0, 0, 0, 0, 0, 0, 0, 0, 0,\n",
       "       0, 0, 0, 0, 0, 0, 0, 0, 0, 0, 0, 0, 0, 0, 0, 0, 0, 0, 0, 0, 0, 0,\n",
       "       0, 0, 0, 0, 0, 0, 0, 0, 0, 0, 0, 1, 1, 1, 1, 1, 1, 1, 1, 1, 1, 1,\n",
       "       1, 1, 1, 1, 1, 1, 1, 1, 1, 1, 1, 1, 1, 1, 1, 1, 1, 2, 2, 1, 1, 1,\n",
       "       1, 1, 1, 1, 1, 1, 1, 1, 1, 1, 1, 1, 1, 1, 1, 1, 1, 1, 1, 1, 1, 1,\n",
       "       1, 1, 1, 1, 1, 1, 1, 1, 1, 1, 1, 1, 1, 1, 1, 1, 1, 1, 1, 1, 1, 1,\n",
       "       1, 1, 1, 1, 1, 1, 1, 1, 1, 1, 1, 1, 1, 1, 1, 1, 1, 1, 1, 1, 1, 1,\n",
       "       2, 2, 2, 2, 2, 1, 2, 2, 2, 2, 2, 2, 2, 2, 2, 2, 2, 2, 2, 2, 2, 2,\n",
       "       2, 2, 2, 2, 2, 2, 2, 2, 2, 2, 2, 2, 2, 2, 2, 2, 2, 2, 2, 2, 2, 2,\n",
       "       2, 2, 1, 2, 2, 2, 2, 2, 2, 2, 2, 2, 2, 2, 2, 2, 2, 2, 2, 2, 2, 2,\n",
       "       2, 2, 2, 2, 2, 2, 2, 2, 2, 2, 2, 2, 2, 2, 2, 2, 2, 2, 2, 2, 2, 2,\n",
       "       2, 2, 2, 2, 2, 2, 2, 2, 2, 2, 2, 3, 3, 3, 0, 3, 3, 0, 3, 3, 3, 3,\n",
       "       3, 0, 3, 0, 3, 3, 3, 3, 3, 3, 3, 0, 0, 3, 3, 3, 0, 0, 0, 3, 3, 0,\n",
       "       3, 3, 0, 3, 3, 0, 3, 3, 0, 3, 3, 3, 0, 3, 3, 3, 3, 3, 3, 0, 3, 0,\n",
       "       3, 3, 0, 3, 0, 3, 3, 3, 0, 3, 3, 0, 0, 3, 3, 0, 3, 3, 1, 3, 3, 0,\n",
       "       3, 3, 3, 3, 3, 0, 3, 3, 3, 0, 3, 3, 3, 0, 3, 3, 3, 0, 0, 3, 3, 3],\n",
       "      dtype=int64)"
      ]
     },
     "execution_count": 28,
     "metadata": {},
     "output_type": "execute_result"
    }
   ],
   "source": [
    "predictions"
   ]
  },
  {
   "cell_type": "code",
   "execution_count": 29,
   "id": "475bc1f6",
   "metadata": {},
   "outputs": [
    {
     "name": "stdout",
     "output_type": "stream",
     "text": [
      "13/13 [==============================] - 2s 184ms/step - loss: 0.2264 - accuracy: 0.9167\n"
     ]
    }
   ],
   "source": [
    "results_validation =cnn.evaluate(test_set, batch_size=32)"
   ]
  },
  {
   "cell_type": "code",
   "execution_count": 30,
   "id": "d63927f9",
   "metadata": {},
   "outputs": [
    {
     "name": "stdout",
     "output_type": "stream",
     "text": [
      "test loss, test acc: [0.22643926739692688, 0.9166666865348816]\n"
     ]
    }
   ],
   "source": [
    "print(\"test loss, test acc:\", results_validation)"
   ]
  },
  {
   "cell_type": "code",
   "execution_count": 31,
   "id": "ec28c3f7",
   "metadata": {},
   "outputs": [
    {
     "data": {
      "text/plain": [
       "0.9166666666666666"
      ]
     },
     "execution_count": 31,
     "metadata": {},
     "output_type": "execute_result"
    }
   ],
   "source": [
    "from sklearn.metrics import accuracy_score\n",
    "accuracy_score(test_set.classes, predictions)"
   ]
  },
  {
   "cell_type": "code",
   "execution_count": 32,
   "id": "bac0e0cb",
   "metadata": {},
   "outputs": [
    {
     "data": {
      "text/plain": [
       "array([[99,  0,  0,  0],\n",
       "       [ 0, 97,  2,  0],\n",
       "       [ 0,  2, 97,  0],\n",
       "       [28,  1,  0, 70]], dtype=int64)"
      ]
     },
     "execution_count": 32,
     "metadata": {},
     "output_type": "execute_result"
    }
   ],
   "source": [
    "from sklearn.metrics import confusion_matrix\n",
    "cm = confusion_matrix(test_set.classes, predictions)\n",
    "cm"
   ]
  },
  {
   "cell_type": "code",
   "execution_count": 33,
   "id": "cd45b08e",
   "metadata": {},
   "outputs": [
    {
     "data": {
      "image/png": "[encoded data removed]",
      "text/plain": [
       "<Figure size 432x288 with 2 Axes>"
      ]
     },
     "metadata": {
      "needs_background": "light"
     },
     "output_type": "display_data"
    }
   ],
   "source": [
    "import seaborn as sns\n",
    "sns.heatmap(cm, annot=True);"
   ]
  },
  {
   "cell_type": "code",
   "execution_count": null,
   "id": "36b9dd87",
   "metadata": {},
   "outputs": [],
   "source": []
  }
 ],
 "metadata": {
  "kernelspec": {
   "display_name": "Python 3",
   "language": "python",
   "name": "python3"
  },
  "language_info": {
   "codemirror_mode": {
    "name": "ipython",
    "version": 3
   },
   "file_extension": ".py",
   "mimetype": "text/x-python",
   "name": "python",
   "nbconvert_exporter": "python",
   "pygments_lexer": "ipython3",
   "version": "3.8.8"
  }
 },
 "nbformat": 4,
 "nbformat_minor": 5
}
